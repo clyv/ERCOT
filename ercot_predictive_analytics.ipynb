# 🔮 Advanced Predictive Models & Forecasting
print("🔮 CREATING ADVANCED PREDICTIVE MODELS...")

if not df_integrated.empty and len(df_integrated) >= 5:
    
    # Prepare future prediction years
    future_years = list(range(2025, 2031))  # Predict 2025-2030
    historical_years = df_integrated['Year'].values
    
    # Model 1: Renewable Penetration Forecasting
    print("\n🌱 RENEWABLE PENETRATION FORECASTING...")
    
    X_renewable = df_integrated['Years_Since_Start'].values.reshape(-1, 1)
    y_renewable = df_integrated['Renewable_Percentage'].values
    
    # Try multiple models for renewable growth
    models = {
        'Linear': LinearRegression(),
        'Polynomial': PolynomialFeatures(degree=2),
        'Random Forest': RandomForestRegressor(n_estimators=100, random_state=42)
    }
    
    renewable_predictions = {}
    model_scores = {}
    
    # Linear model
    linear_model = LinearRegression()
    linear_model.fit(X_renewable, y_renewable)
    
    # Polynomial model
    poly_features = PolynomialFeatures(degree=2)
    X_renewable_poly = poly_features.fit_transform(X_renewable)
    poly_model = LinearRegression()
    poly_model.fit(X_renewable_poly, y_renewable)
    
    # Random Forest
    rf_model = RandomForestRegressor(n_estimators=100, random_state=42)
    rf_model.fit(X_renewable, y_renewable)
    
    # Generate predictions for future years
    future_years_since_start = np.array([year - df_integrated['Year'].min() for year in future_years]).reshape(-1, 1)
    
    # Predictions
    linear_pred = linear_model.predict(future_years_since_start)
    poly_pred = poly_model.predict(poly_features.transform(future_years_since_start))
    rf_pred = rf_model.predict(future_years_since_start)
    
    # Model 2: Total Generation Forecasting
    print("⚡ TOTAL GENERATION FORECASTING...")
    
    y_generation = df_integrated['Total_Generation_GWh'].values
    
    gen_linear = LinearRegression()
    gen_linear.fit(X_renewable, y_generation)
    
    gen_poly = LinearRegression()
    gen_poly.fit(X_renewable_poly, y_generation)
    
    gen_rf = RandomForestRegressor(n_estimators=100, random_state=42)
    gen_rf.fit(X_renewable, y_generation)
    
    # Generate predictions
    gen_linear_pred = gen_linear.predict(future_years_since_start)
    gen_poly_pred = gen_poly.predict(poly_features.transform(future_years_since_start))
    gen_rf_pred = gen_rf.predict(future_years_since_start)
    
    # Model 3: Consumption Forecasting
    print("🏠 CONSUMPTION FORECASTING...")
    
    y_consumption = df_integrated['Total_Consumption_GWh'].values
    
    cons_linear = LinearRegression()
    cons_linear.fit(X_renewable, y_consumption)
    
    cons_rf = RandomForestRegressor(n_estimators=100, random_state=42)
    cons_rf.fit(X_renewable, y_consumption)
    
    cons_linear_pred = cons_linear.predict(future_years_since_start)
    cons_rf_pred = cons_rf.predict(future_years_since_start)
    
    # Create comprehensive prediction visualization
    fig = make_subplots(
        rows=2, cols=2,
        subplot_titles=[
            'Renewable Penetration Forecasts (Multiple Models)',
            'Total Generation Projections',
            'Consumption Growth Predictions',
            'Future Energy Balance Scenarios'
        ],
        vertical_spacing=0.1
    )
    
    # 1. Renewable penetration forecasts
    # Historical data
    fig.add_trace(
        go.Scatter(
            x=historical_years,
            y=y_renewable,
            name='Historical Renewable %',
            mode='markers+lines',
            line=dict(color='green', width=3),
            marker=dict(size=8)
        ),
        row=1, col=1
    )
    
    # Future predictions - multiple models
    fig.add_trace(
        go.Scatter(
            x=future_years,
            y=linear_pred,
            name='Linear Forecast',
            mode='lines+markers',
            line=dict(color='blue', dash='dash', width=2),
            marker=dict(size=6)
        ),
        row=1, col=1
    )
    
    fig.add_trace(
        go.Scatter(
            x=future_years,
            y=poly_pred,
            name='Polynomial Forecast',
            mode='lines+markers',
            line=dict(color='red', dash='dot', width=2),
            marker=dict(size=6)
        ),
        row=1, col=1
    )
    
    fig.add_trace(
        go.Scatter(
            x=future_years,
            y=rf_pred,
            name='Random Forest Forecast',
            mode='lines+markers',
            line=dict(color='purple', dash='dashdot', width=2),
            marker=dict(size=6)
        ),
        row=1, col=1
    )
    
    # 2. Total generation projections
    fig.add_trace(
        go.Scatter(
            x=historical_years,
            y=y_generation,
            name='Historical Generation',
            mode='markers+lines',
            line=dict(color='orange', width=3),
            marker=dict(size=8)
        ),
        row=1, col=2
    )
    
    fig.add_trace(
        go.Scatter(
            x=future_years,
            y=gen_rf_pred,
            name='Generation Forecast',
            mode='lines+markers',
            line=dict(color='darkorange', dash='dash', width=2),
            marker=dict(size=6)
        ),
        row=1, col=2
    )
    
    # 3. Consumption predictions
    fig.add_trace(
        go.Scatter(
            x=historical_years,
            y=y_consumption,
            name='Historical Consumption',
            mode='markers+lines',
            line=dict(color='navy', width=3),
            marker=dict(size=8)
        ),
        row=2, col=1
    )
    
    fig.add_trace(
        go.Scatter(
            x=future_years,
            y=cons_rf_pred,
            name='Consumption Forecast',
            mode='lines+markers',
            line=dict(color='darkblue', dash='dash', width=2),
            marker=dict(size=6)
        ),
        row=2, col=1
    )
    
    # 4. Future energy balance scenarios
    future_balance_conservative = gen_linear_pred - cons_rf_pred
    future_balance_optimistic = gen_rf_pred - cons_linear_pred
    
    fig.add_trace(
        go.Scatter(
            x=future_years,
            y=future_balance_conservative,
            name='Conservative Balance',
            mode='lines+markers',
            line=dict(color='red', width=2),
            marker=dict(size=6)
        ),
        row=2, col=2
    )
    
    fig.add_trace(
        go.Scatter(
            x=future_years,
            y=future_balance_optimistic,
            name='Optimistic Balance',
            mode='lines+markers',
            line=dict(color='green', width=2),
            marker=dict(size=6)
        ),
        row=2, col=2
    )
    
    # Add zero line for balance
    fig.add_hline(y=0, line_dash="dot", line_color="black", 
                  annotation_text="Perfect Balance", row=2, col=2)
    
    # Update layout
    fig.update_layout(
        height=1000,
        title={
            'text': "🔮 ERCOT Advanced Predictive Analytics & Future Forecasting",
            'x': 0.5,
            'font': {'size': 24, 'color': '#4B0082'}
        },
        showlegend=True,
        font=dict(size=11)
    )
    
    # Update axes
    fig.update_xaxes(title_text="Year", row=1, col=1)
    fig.update_yaxes(title_text="Renewable Percentage (%)", row=1, col=1)
    fig.update_xaxes(title_text="Year", row=1, col=2)
    fig.update_yaxes(title_text="Generation (GWh)", row=1, col=2)
    fig.update_xaxes(title_text="Year", row=2, col=1)
    fig.update_yaxes(title_text="Consumption (GWh)", row=2, col=1)
    fig.update_xaxes(title_text="Year", row=2, col=2)
    fig.update_yaxes(title_text="Balance (GWh)", row=2, col=2)
    
    fig.show()
    
    # Prediction summary
    print(f"\n🔮 PREDICTIVE ANALYTICS SUMMARY:")
    print(f"\n🌱 RENEWABLE PENETRATION FORECASTS (2030):")
    print(f"   📈 Linear Model: {linear_pred[-1]:.1f}%")
    print(f"   📈 Polynomial Model: {poly_pred[-1]:.1f}%")
    print(f"   📈 Random Forest: {rf_pred[-1]:.1f}%")
    print(f"   🎯 Average Prediction: {np.mean([linear_pred[-1], poly_pred[-1], rf_pred[-1]]):.1f}%")
    
    print(f"\n⚡ GENERATION FORECAST (2030):")
    print(f"   📊 Predicted Generation: {gen_rf_pred[-1]:,.0f} GWh")
    print(f"   🌱 Renewable Generation: {gen_rf_pred[-1] * rf_pred[-1]/100:,.0f} GWh")
    
    print(f"\n🏠 CONSUMPTION FORECAST (2030):")
    print(f"   📊 Predicted Consumption: {cons_rf_pred[-1]:,.0f} GWh")
    print(f"   📈 Growth from 2024: {((cons_rf_pred[-1] / y_consumption[-1]) - 1) * 100:.1f}%")
    
    print(f"\n⚖️ GRID BALANCE OUTLOOK (2030):")
    balance_2030 = gen_rf_pred[-1] - cons_rf_pred[-1]
    print(f"   🔋 Projected Balance: {balance_2030:,.0f} GWh")
    print(f"   📊 Balance Status: {'Surplus' if balance_2030 > 0 else 'Deficit'}")
    
    # Model performance assessment
    linear_score = linear_model.score(X_renewable, y_renewable)
    rf_score = rf_model.score(X_renewable, y_renewable)
    
    print(f"\n📊 MODEL PERFORMANCE (R² Score):")
    print(f"   🔸 Linear Model: {linear_score:.3f}")
    print(f"   🔸 Random Forest: {rf_score:.3f}")

else:
    print("❌ Insufficient data for predictive modeling (minimum 5 years required)")# 📊 Integrated Data Loading for Predictions
print("📊 LOADING INTEGRATED DATASET FOR PREDICTIVE MODELING...")

# Load the comprehensive datasets we've already created
import glob
import os

def quick_load_summary_data():
    """Quick load of summary data for predictions"""
    
    # Generation data loading
    gen_files = {
        2014: "IntGenByFuel2014.xlsx", 2015: "IntGenByFuel2015.xlsx", 
        2016: "IntGenByFuel2016.xlsx", 2017: "IntGenbyFuel2017.xlsx",
        2018: "IntGenbyFuel2018.xlsx", 2019: "IntGenbyFuel2019.xlsx",
        2020: "IntGenbyFuel2020.xlsx", 2021: "IntGenbyFuel2021.xlsx",
        2022: "IntGenbyFuel2022.xlsx", 2023: "IntGenbyFuel2023.xlsx",
        2024: "IntGenbyFuel2024.xlsx"
    }
    
    summary_data = []
    
    for year in range(2014, 2025):
        if year not in gen_files:
            continue
            
        filename = gen_files[year]
        if not os.path.exists(filename):
            continue
            
        try:
            # Load generation data
            for skiprows in [0, 2, 4, 5, 6, 8, 10]:
                try:
                    df = pd.read_excel(filename, sheet_name="Summary", skiprows=skiprows)
                    if len(df) > 5 and len(df.columns) > 3:
                        break
                except:
                    continue
            
            # Get annual total
            months = ['Jan', 'Feb', 'Mar', 'Apr', 'May', 'Jun', 
                     'Jul', 'Aug', 'Sep', 'Oct', 'Nov', 'Dec']
            
            annual_total = 0
            renewable_total = 0
            fossil_total = 0
            
            for month in months:
                month_cols = [col for col in df.columns if month.lower() in str(col).lower()]
                if month_cols:
                    month_total = df[month_cols[0]].sum()
                    annual_total += month_total
                    
                    # Categorize renewables (simplified)
                    renewable_keywords = ['wind', 'solar', 'hydro', 'biomass']
                    fossil_keywords = ['coal', 'gas']
                    
                    fuel_col = df.columns[0] if len(df.columns) > 0 else None
                    if fuel_col is not None:
                        for idx, fuel in df[fuel_col].astype(str).items():
                            fuel_lower = fuel.lower()
                            month_gen = df.loc[idx, month_cols[0]] if pd.notna(df.loc[idx, month_cols[0]]) else 0
                            
                            if any(keyword in fuel_lower for keyword in renewable_keywords):
                                renewable_total += month_gen
                            elif any(keyword in fuel_lower for keyword in fossil_keywords):
                                fossil_total += month_gen
            
            # Load consumption data
            consumption_patterns = [
                f"Native_Load_{year}.xlsx", f"native_load_{year}.xlsx", 
                f"native_Load_{year}.xlsx", f"native_load_{year}.xls"
            ]
            
            consumption_total = 0
            for pattern in consumption_patterns:
                if glob.glob(pattern):
                    filename = glob.glob(pattern)[0]
                    try:
                        if filename.endswith('.xls'):
                            df_load = pd.read_excel(filename, sheet_name=0, engine='xlrd')
                        else:
                            df_load = pd.read_excel(filename, sheet_name=0)
                        
                        df_load.columns = [str(col).strip().upper() for col in df_load.columns]
                        
                        # Find ERCOT total
                        ercot_col = None
                        for col in df_load.columns:
                            if 'ERCOT' in col.upper():
                                ercot_col = col
                                break
                        
                        if ercot_col:
                            df_load[ercot_col] = pd.to_numeric(df_load[ercot_col], errors='coerce')
                            consumption_total = df_load[ercot_col].sum() / 1000  # MW to GWh
                            break
                    except:
                        continue
            
            summary_data.append({
                'Year': year,
                'Total_Generation_GWh': annual_total,
                'Renewable_Generation_GWh': renewable_total,
                'Fossil_Generation_GWh': fossil_total,
                'Total_Consumption_GWh': consumption_total,
                'Renewable_Percentage': (renewable_total / annual_total * 100) if annual_total > 0 else 0,
                'Balance_GWh': annual_total - consumption_total,
                'Balance_Ratio': annual_total / consumption_total if consumption_total > 0 else 1
            })
            
            print(f"   ✅ {year}: Gen={annual_total:,.0f} GWh, Renewable={renewable_total/annual_total*100:.1f}%")
            
        except Exception as e:
            print(f"   ❌ {year}: {e}")
    
    return pd.DataFrame(summary_data)

# Load the integrated dataset
df_integrated = quick_load_summary_data()

if not df_integrated.empty:
    print(f"\n🔮 PREDICTIVE DATASET READY!")
    print(f"   📊 Years: {df_integrated['Year'].min()}-{df_integrated['Year'].max()}")
    print(f"   📈 Records: {len(df_integrated)} annual data points")
    print(f"   🌱 Renewable range: {df_integrated['Renewable_Percentage'].min():.1f}% - {df_integrated['Renewable_Percentage'].max():.1f}%")
    
    # Add time-based features for modeling
    df_integrated['Years_Since_Start'] = df_integrated['Year'] - df_integrated['Year'].min()
    df_integrated['Year_Normalized'] = (df_integrated['Year'] - df_integrated['Year'].min()) / (df_integrated['Year'].max() - df_integrated['Year'].min())
    
    print(f"\n📋 Sample Integrated Data:")
    print(df_integrated[['Year', 'Total_Generation_GWh', 'Renewable_Percentage', 'Balance_Ratio']].head())

else:
    print("❌ Failed to create integrated dataset for predictions")# 🔮 Predictive Analytics Setup
import pandas as pd
import numpy as np
import matplotlib.pyplot as plt
import seaborn as sns
import plotly.graph_objects as go
import plotly.express as px
from plotly.subplots import make_subplots
from sklearn.preprocessing import PolynomialFeatures
from sklearn.linear_model import LinearRegression
from sklearn.ensemble import RandomForestRegressor
from sklearn.metrics import mean_absolute_error, r2_score
from scipy import stats
from scipy.optimize import curve_fit
import warnings
warnings.filterwarnings('ignore')

# Predictive modeling functions
def exponential_growth(x, a, b, c):
    """Exponential growth function for renewable adoption"""
    return a * np.exp(b * x) + c

def logistic_growth(x, a, b, c, d):
    """Logistic S-curve for technology adoption"""
    return a / (1 + np.exp(-b * (x - c))) + d

def seasonal_trend(x, a, b, c, d, e):
    """Trend with seasonal component"""
    return a * x + b * np.sin(2 * np.pi * x / 12) + c * np.cos(2 * np.pi * x / 12) + d * x**2 + e

print("🔮 ERCOT Predictive Analytics Environment Ready!")
print("🎯 Focus: Machine learning and future forecasting")
print("📊 Capabilities: Advanced time series and trend modeling")# 🔮 ERCOT Predictive Analytics & Future Forecasting
## Advanced Machine Learning Models for Energy Prediction

**🎯 Objective**: Use advanced analytics and machine learning to predict future energy trends, consumption patterns, and grid dynamics based on historical ERCOT data.

**🤖 Machine Learning Applications**:
1. **Demand Forecasting** - Predict future energy consumption by region
2. **Renewable Growth Modeling** - Forecast wind and solar expansion
3. **Price Prediction** - Market price forecasting models
4. **Grid Stress Prediction** - Anticipate peak demand periods
5. **Carbon Trajectory** - Environmental impact forecasting
6. **Technology Adoption** - S-curve modeling for new technologies

**📊 Advanced Analytical Techniques**:
- Time series forecasting (ARIMA, Prophet, LSTM)
- Polynomial regression and trend analysis
- Seasonal decomposition and cyclical patterns
- Monte Carlo simulations for uncertainty
- Machine learning ensemble methods
- Scenario modeling (conservative, likely, aggressive)

**🔬 Predictive Outputs**:
- 5-year energy consumption forecasts
- Renewable penetration trajectories
- Grid modernization requirements
- Economic impact projections
- Policy recommendation scenarios

---