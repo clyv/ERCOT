# 📊 Comprehensive Prediction Visualizations
print("📊 CREATING COMPREHENSIVE PREDICTION VISUALIZATIONS...")

def create_prediction_visualizations(fuel_predictions, regional_predictions, ensemble_results):
    """Create comprehensive visualization dashboard for all predictions"""
    
    if not fuel_predictions and not regional_predictions:
        print("❌ No prediction data available for visualization")
        return
    
    # Create main prediction dashboard
    fig = make_subplots(
        rows=3, cols=2,
        subplot_titles=[
            '⚡ 2025 Fuel Type Predictions (Best Models)',
            '🌍 2025 Regional Consumption Predictions',
            '🌱 Renewable vs Fossil Scenarios',
            '⚖️ Supply-Demand Balance Analysis',
            '📊 Prediction Uncertainty Analysis',
            '🎯 Integrated Scenario Comparison'
        ],
        specs=[
            [{"type": "bar"}, {"type": "bar"}],
            [{"type": "bar"}, {"type": "bar"}],
            [{"type": "scatter"}, {"type": "bar"}]
        ],
        vertical_spacing=0.12
    )
    
    # 1. Fuel type predictions
    if fuel_predictions:
        fuel_names = []
        fuel_values = []
        fuel_colors = []
        
        color_map = {
            'Wind': '#32CD32', 'Solar': '#FFA500', 'Natural Gas': '#4682B4',
            'Coal': '#8B4513', 'Nuclear': '#FFD700', 'Hydro': '#87CEEB',
            'Biomass': '#228B22', 'Other': '#808080'
        }
        
        for fuel, data in fuel_predictions.items():
            fuel_names.append(fuel)
            best_pred = data['predictions'][data['best_model']]
            fuel_values.append(best_pred)
            fuel_colors.append(color_map.get(fuel, '#808080'))
        
        fig.add_trace(
            go.Bar(
                x=fuel_names,
                y=fuel_values,
                name='Fuel Predictions',
                marker_color=fuel_colors,
                hovertemplate="<b>%{x}</b><br>Prediction: %{y:,.0f} GWh<extra></extra>",
                showlegend=False
            ),
            row=1, col=1
        )
    
    # 2. Regional predictions
    if regional_predictions:
        region_names = []
        region_values = []
        
        for region, data in regional_predictions.items():
            region_names.append(data['region_name'])
            best_pred = data['predictions'][data['best_model']]
            region_values.append(best_pred)
        
        fig.add_trace(
            go.Bar(
                x=region_names,
                y=region_values,
                name='Regional Predictions',
                marker_color='lightblue',
                hovertemplate="<b>%{x}</b><br>Consumption: %{y:,.0f} GWh<extra></extra>",
                showlegend=False
            ),
            row=1, col=2
        )
    
    # 3. Renewable vs Fossil scenarios
    if ensemble_results and 'fuel_ensemble' in ensemble_results:
        scenarios = ['Conservative', 'Likely', 'Optimistic']
        renewable_values = []
        fossil_values = []
        
        renewable_fuels = ['Wind', 'Solar', 'Hydro', 'Biomass']
        fossil_fuels = ['Natural Gas', 'Coal']
        
        for scenario in scenarios:
            if scenario in ensemble_results['fuel_ensemble']:
                breakdown = ensemble_results['fuel_ensemble'][scenario]['breakdown']
                
                renewable_total = sum([breakdown.get(fuel, 0) for fuel in renewable_fuels])
                fossil_total = sum([breakdown.get(fuel, 0) for fuel in fossil_fuels])
                
                renewable_values.append(renewable_total)
                fossil_values.append(fossil_total)
        
        fig.add_trace(
            go.Bar(
                x=scenarios,
                y=renewable_values,
                name='Renewables',
                marker_color='green',
                hovertemplate="<b>%{x}</b><br>Renewables: %{y:,.0f} GWh<extra></extra>"
            ),
            row=2, col=1
        )
        
        fig.add_trace(
            go.Bar(
                x=scenarios,
                y=fossil_values,
                name='Fossil Fuels',
                marker_color='brown',
                hovertemplate="<b>%{x}</b><br>Fossil: %{y:,.0f} GWh<extra></extra>"
            ),
            row=2, col=1
        )
    
    # 4. Supply-demand balance
    if ensemble_results and 'balance_analysis' in ensemble_results:
        balance_scenarios = []
        generation_values = []
        consumption_values = []
        
        for scenario, data in ensemble_results['balance_analysis'].items():
            balance_scenarios.append(scenario)
            generation_values.append(data['generation'])
            consumption_values.append(data['consumption'])
        
        fig.add_trace(
            go.Bar(
                x=balance_scenarios,
                y=generation_values,
                name='Generation',
                marker_color='orange',
                hovertemplate="<b>%{x}</b><br>Generation: %{y:,.0f} GWh<extra></extra>"
            ),
            row=2, col=2
        )
        
        fig.add_trace(
            go.Bar(
                x=balance_scenarios,
                y=consumption_values,
                name='Consumption',
                marker_color='blue',
                hovertemplate="<b>%{x}</b><br>Consumption: %{y:,.0f} GWh<extra></extra>"
            ),
            row=2, col=2
        )
    
    # 5. Uncertainty analysis
    if fuel_predictions:
        uncertainty_fuels = []
        uncertainty_ranges = []
        
        for fuel, data in fuel_predictions.items():
            uncertainty_fuels.append(fuel)
            uncertainty = data['uncertainty']
            range_size = uncertainty['confidence_95_upper'] - uncertainty['confidence_95_lower']
            uncertainty_ranges.append(range_size)
        
        fig.add_trace(
            go.Scatter(
                x=uncertainty_fuels,
                y=uncertainty_ranges,
                mode='markers',
                marker=dict(size=12, color='red'),
                name='Uncertainty Range',
                hovertemplate="<b>%{x}</b><br>Uncertainty: ±%{y:,.0f} GWh<extra></extra>",
                showlegend=False
            ),
            row=3, col=1
        )
    
    # 6. Scenario comparison
    if ensemble_results and 'fuel_ensemble' in ensemble_results:
        scenario_totals = []
        scenario_names = []
        
        for scenario, data in ensemble_results['fuel_ensemble'].items():
            scenario_names.append(scenario)
            scenario_totals.append(data['total'])
        
        fig.add_trace(
            go.Bar(
                x=scenario_names,
                y=scenario_totals,
                name='Total Generation',
                marker_color=['red', 'yellow', 'green'],
                hovertemplate="<b>%{x}</b><br>Total: %{y:,.0f} GWh<extra></extra>",
                showlegend=False
            ),
            row=3, col=2
        )
    
    # Update layout
    fig.update_layout(
        height=1400,
        title={
            'text': "🔮 ERCOT 2025 Comprehensive Prediction Dashboard",
            'x': 0.5,
            'font': {'size': 24, 'color': '#4B0082'}
        },
        showlegend=True,
        font=dict(size=11)
    )
    
    # Update axes
    fig.update_xaxes(title_text="Fuel Type", row=1, col=1)
    fig.update_yaxes(title_text="Generation (GWh)", row=1, col=1)
    fig.update_xaxes(title_text="Region", row=1, col=2)
    fig.update_yaxes(title_text="Consumption (GWh)", row=1, col=2)
    fig.update_xaxes(title_text="Scenario", row=2, col=1)
    fig.update_yaxes(title_text="Generation (GWh)", row=2, col=1)
    fig.update_xaxes(title_text="Scenario", row=2, col=2)
    fig.update_yaxes(title_text="Energy (GWh)", row=2, col=2)
    fig.update_xaxes(title_text="Fuel Type", row=3, col=1)
    fig.update_yaxes(title_text="Uncertainty Range (GWh)", row=3, col=1)
    fig.update_xaxes(title_text="Scenario", row=3, col=2)
    fig.update_yaxes(title_text="Total Generation (GWh)", row=3, col=2)
    
    fig.show()
    
    print("📊 Comprehensive prediction dashboard created!")
    
    # Create monthly breakdown prediction chart if we have detailed data
    if fuel_predictions:
        print("\n📅 Creating monthly breakdown predictions...")
        
        # Simulate monthly patterns based on historical data
        monthly_fig = make_subplots(
            rows=2, cols=1,
            subplot_titles=[
                '📅 2025 Monthly Generation Forecast by Fuel Type',
                '📅 2025 Monthly Renewable Penetration Forecast'
            ],
            vertical_spacing=0.15
        )
        
        months = ['Jan', 'Feb', 'Mar', 'Apr', 'May', 'Jun', 
                 'Jul', 'Aug', 'Sep', 'Oct', 'Nov', 'Dec']
        
        # Simplified monthly variation (based on typical patterns)
        seasonal_factors = {
            'Wind': [1.2, 1.1, 1.0, 0.9, 0.8, 0.7, 0.8, 0.9, 1.0, 1.1, 1.2, 1.3],
            'Solar': [0.7, 0.8, 1.0, 1.1, 1.2, 1.3, 1.3, 1.2, 1.1, 1.0, 0.8, 0.7],
            'Natural Gas': [1.3, 1.2, 1.0, 0.8, 0.7, 0.9, 1.1, 1.0, 0.8, 0.9, 1.1, 1.2],
            'Coal': [1.2, 1.1, 1.0, 0.8, 0.7, 0.8, 0.9, 0.8, 0.9, 1.0, 1.1, 1.2],
            'Nuclear': [1.0, 1.0, 1.0, 1.0, 1.0, 1.0, 1.0, 1.0, 1.0, 1.0, 1.0, 1.0]
        }
        
        total_monthly_renewable = []
        total_monthly_generation = []
        
        for fuel, data in fuel_predictions.items():
            annual_pred = data['predictions'][data['best_model']]
            monthly_pred = []
            
            factors = seasonal_factors.get(fuel, [1.0] * 12)
            avg_factor = sum(factors) / 12
            
            for factor in factors:
                monthly_value = (annual_pred / 12) * (factor / avg_factor)
                monthly_pred.append(monthly_value)
            
            monthly_fig.add_trace(
                go.Scatter(
                    x=months,
                    y=monthly_pred,
                    name=fuel,
                    mode='lines+markers',
                    line=dict(width=2),
                    marker=dict(size=6),
                    hovertemplate=f"<b>{fuel}</b><br>Month: %{{x}}<br>Generation: %{{y:,.0f}} GWh<extra></extra>"
                ),
                row=1, col=1
            )
            
            # Track renewable vs total for penetration calculation
            if fuel in ['Wind', 'Solar', 'Hydro', 'Biomass']:
                if not total_monthly_renewable:
                    total_monthly_renewable = monthly_pred[:]
                else:
                    total_monthly_renewable = [total_monthly_renewable[i] + monthly_pred[i] for i in range(12)]
            
            if not total_monthly_generation:
                total_monthly_generation = monthly_pred[:]
            else:
                total_monthly_generation = [total_monthly_generation[i] + monthly_pred[i] for i in range(12)]
        
        # Calculate monthly renewable penetration
        if total_monthly_renewable and total_monthly_generation:
            monthly_penetration = [(total_monthly_renewable[i] / total_monthly_generation[i]) * 100 
                                 for i in range(12)]
            
            monthly_fig.add_trace(
                go.Scatter(
                    x=months,
                    y=monthly_penetration,
                    name='Renewable Penetration %',
                    mode='lines+markers',
                    line=dict(width=4, color='green'),
                    marker=dict(size=8),
                    hovertemplate="<b>Renewable Penetration</b><br>Month: %{x}<br>Penetration: %{y:.1f}%<extra></extra>",
                    yaxis='y2'
                ),
                row=2, col=1
            )
        
        monthly_fig.update_layout(
            height=800,
            title={
                'text': "📅 ERCOT 2025 Monthly Forecast Details",
                'x': 0.5,
                'font': {'size': 20, 'color': '#2E8B57'}
            },
            showlegend=True
        )
        
        monthly_fig.update_xaxes(title_text="Month", row=1, col=1)
        monthly_fig.update_yaxes(title_text="Generation (GWh)", row=1, col=1)
        monthly_fig.update_xaxes(title_text="Month", row=2, col=1)
        monthly_fig.update_yaxes(title_text="Renewable Penetration (%)", row=2, col=1)
        
        monthly_fig.show()
        print("📅 Monthly breakdown forecast created!")

# Create comprehensive visualizations
create_prediction_visualizations(fuel_predictions, regional_predictions, ensemble_results)

print(f"\n🎨 COMPREHENSIVE PREDICTION VISUALIZATIONS COMPLETED!")# 🎯 Integrated Ensemble Models
print("🎯 CREATING INTEGRATED ENSEMBLE MODELS FOR 2025...")

def create_integrated_ensemble_models(fuel_predictions, regional_predictions, df_fuels, df_regional):
    """Create comprehensive ensemble models combining all fuel types and regions"""
    
    ensemble_results = {}
    
    # 1. FUEL TYPE ENSEMBLE ANALYSIS
    if fuel_predictions:
        print("\n⚡ FUEL TYPE ENSEMBLE ANALYSIS:")
        
        fuel_ensemble = {}
        total_generation_scenarios = {}
        
        # Different ensemble scenarios
        scenarios = ['Conservative', 'Likely', 'Optimistic']
        
        for scenario in scenarios:
            total_gen = 0
            fuel_breakdown = {}
            
            for fuel, data in fuel_predictions.items():
                if scenario == 'Conservative':
                    # Use lower confidence bound
                    prediction = data['uncertainty']['confidence_95_lower']
                elif scenario == 'Optimistic':
                    # Use upper confidence bound  
                    prediction = data['uncertainty']['confidence_95_upper']
                else:  # Likely
                    # Use best model prediction
                    prediction = data['predictions'][data['best_model']]
                
                fuel_breakdown[fuel] = prediction
                total_gen += prediction
            
            total_generation_scenarios[scenario] = {
                'total': total_gen,
                'breakdown': fuel_breakdown
            }
            
            print(f"   🎯 {scenario} Scenario: {total_gen:,.0f} GWh total generation")
        
        # Calculate renewable penetration for each scenario
        renewable_fuels = ['Wind', 'Solar', 'Hydro', 'Biomass']
        
        print(f"\n🌱 RENEWABLE PENETRATION SCENARIOS 2025:")
        for scenario, data in total_generation_scenarios.items():
            renewable_gen = sum([data['breakdown'].get(fuel, 0) for fuel in renewable_fuels])
            renewable_pct = (renewable_gen / data['total']) * 100 if data['total'] > 0 else 0
            
            print(f"   🌱 {scenario}: {renewable_pct:.1f}% renewable ({renewable_gen:,.0f} GWh)")
        
        fuel_ensemble = total_generation_scenarios
    
    # 2. REGIONAL ENSEMBLE ANALYSIS
    if regional_predictions:
        print(f"\n🌍 REGIONAL ENSEMBLE ANALYSIS:")
        
        regional_ensemble = {}
        total_consumption_scenarios = {}
        
        for scenario in scenarios:
            total_cons = 0
            regional_breakdown = {}
            
            for region, data in regional_predictions.items():
                region_name = data['region_name']
                
                if scenario == 'Conservative':
                    prediction = data['uncertainty']['confidence_95_lower']
                elif scenario == 'Optimistic':
                    prediction = data['uncertainty']['confidence_95_upper']
                else:  # Likely
                    prediction = data['predictions'][data['best_model']]
                
                regional_breakdown[region] = {
                    'name': region_name,
                    'consumption': prediction
                }
                total_cons += prediction
            
            total_consumption_scenarios[scenario] = {
                'total': total_cons,
                'breakdown': regional_breakdown
            }
            
            print(f"   🎯 {scenario} Scenario: {total_cons:,.0f} GWh total consumption")
        
        regional_ensemble = total_consumption_scenarios
    
    # 3. INTEGRATED SUPPLY-DEMAND BALANCE ANALYSIS
    if fuel_predictions and regional_predictions:
        print(f"\n⚖️ INTEGRATED SUPPLY-DEMAND BALANCE ANALYSIS 2025:")
        
        balance_analysis = {}
        
        for scenario in scenarios:
            generation = total_generation_scenarios[scenario]['total']
            consumption = total_consumption_scenarios[scenario]['total']
            balance = generation - consumption
            balance_ratio = generation / consumption if consumption > 0 else 1
            
            balance_status = "Surplus" if balance > 0 else "Deficit" if balance < 0 else "Balanced"
            
            balance_analysis[scenario] = {
                'generation': generation,
                'consumption': consumption,
                'balance': balance,
                'balance_ratio': balance_ratio,
                'status': balance_status
            }
            
            print(f"   ⚖️ {scenario}: {balance:+,.0f} GWh balance ({balance_status})")
            print(f"      Generation: {generation:,.0f} GWh | Consumption: {consumption:,.0f} GWh")
            print(f"      Balance Ratio: {balance_ratio:.3f}")
    
    # 4. ADVANCED ENSEMBLE METRICS
    if fuel_predictions:
        print(f"\n📊 ADVANCED ENSEMBLE METRICS:")
        
        # Technology portfolio analysis
        tech_categories = {
            'Renewables': ['Wind', 'Solar', 'Hydro', 'Biomass'],
            'Fossil': ['Natural Gas', 'Coal'],
            'Nuclear': ['Nuclear'],
            'Other': ['Other']
        }
        
        likely_scenario = total_generation_scenarios.get('Likely', {})
        if likely_scenario:
            print(f"   🔋 Technology Portfolio (Likely Scenario):")
            total = likely_scenario['total']
            
            for category, fuels in tech_categories.items():
                category_total = sum([likely_scenario['breakdown'].get(fuel, 0) for fuel in fuels])
                category_pct = (category_total / total) * 100 if total > 0 else 0
                print(f"      {category}: {category_pct:.1f}% ({category_total:,.0f} GWh)")
        
        # Growth rate analysis
        if not df_fuels.empty:
            latest_year = df_fuels['Year'].max()
            historical_total = df_fuels[df_fuels['Year'] == latest_year]['Generation_GWh'].sum()
            
            print(f"\n📈 GROWTH ANALYSIS:")
            for scenario, data in total_generation_scenarios.items():
                growth_rate = ((data['total'] / historical_total) - 1) * 100
                print(f"   📈 {scenario} Growth from {latest_year}: {growth_rate:+.1f}%")
        
        # Risk assessment
        conservative_total = total_generation_scenarios['Conservative']['total']
        optimistic_total = total_generation_scenarios['Optimistic']['total']
        uncertainty_range = optimistic_total - conservative_total
        uncertainty_pct = (uncertainty_range / total_generation_scenarios['Likely']['total']) * 100
        
        print(f"\n🎲 UNCERTAINTY & RISK ASSESSMENT:")
        print(f"   📊 Prediction Range: {conservative_total:,.0f} - {optimistic_total:,.0f} GWh")
        print(f"   📊 Uncertainty Band: ±{uncertainty_pct:.1f}%")
        print(f"   🎯 Confidence Level: 95%")
    
    # 5. POLICY & PLANNING IMPLICATIONS
    print(f"\n🏛️ POLICY & PLANNING IMPLICATIONS:")
    
    if fuel_predictions:
        # Renewable growth implications
        renewable_scenarios = {}
        for scenario in scenarios:
            renewable_fuels = ['Wind', 'Solar', 'Hydro', 'Biomass']
            renewable_gen = sum([total_generation_scenarios[scenario]['breakdown'].get(fuel, 0) for fuel in renewable_fuels])
            renewable_pct = (renewable_gen / total_generation_scenarios[scenario]['total']) * 100
            renewable_scenarios[scenario] = renewable_pct
        
        print(f"   🌱 Renewable penetration will reach {renewable_scenarios['Likely']:.1f}% in 2025")
        print(f"   🌱 Range: {renewable_scenarios['Conservative']:.1f}% - {renewable_scenarios['Optimistic']:.1f}%")
        
        # Grid modernization needs
        if renewable_scenarios['Likely'] > 40:
            print(f"   🔋 High renewable penetration requires enhanced grid flexibility")
            print(f"   🔋 Energy storage and demand response programs recommended")
    
    if regional_predictions:
        # Regional infrastructure needs
        print(f"   🏗️ Regional infrastructure planning needed for growing demand")
        print(f"   🏗️ Transmission capacity upgrades may be required")
    
    # Store all results
    ensemble_results = {
        'fuel_ensemble': fuel_ensemble if fuel_predictions else {},
        'regional_ensemble': regional_ensemble if regional_predictions else {},
        'balance_analysis': balance_analysis if (fuel_predictions and regional_predictions) else {},
        'scenarios': scenarios,
        'summary': {
            'total_fuels_predicted': len(fuel_predictions) if fuel_predictions else 0,
            'total_regions_predicted': len(regional_predictions) if regional_predictions else 0,
            'prediction_year': 2025
        }
    }
    
    return ensemble_results

# Create integrated ensemble models
ensemble_results = create_integrated_ensemble_models(fuel_predictions, regional_predictions, df_fuels, df_regional)

print(f"\n🎯 INTEGRATED ENSEMBLE ANALYSIS COMPLETED!")
print(f"   ⚡ Fuel type models: {ensemble_results['summary']['total_fuels_predicted']}")
print(f"   🌍 Regional models: {ensemble_results['summary']['total_regions_predicted']}")
print(f"   🎯 Scenarios analyzed: {len(ensemble_results['scenarios'])}")
print(f"   📊 Target year: {ensemble_results['summary']['prediction_year']}")

if ensemble_results['balance_analysis']:
    likely_balance = ensemble_results['balance_analysis']['Likely']
    print(f"\n🎯 KEY 2025 PREDICTIONS (LIKELY SCENARIO):")
    print(f"   ⚡ Total Generation: {likely_balance['generation']:,.0f} GWh")
    print(f"   🏠 Total Consumption: {likely_balance['consumption']:,.0f} GWh")
    print(f"   ⚖️ Grid Balance: {likely_balance['balance']:+,.0f} GWh ({likely_balance['status']})")
    print(f"   📊 Balance Ratio: {likely_balance['balance_ratio']:.3f}")

print(f"\n🔮 COMPREHENSIVE 2025 PREDICTION MODELS COMPLETED!")# 🌍 Regional Prediction Models
print("🌍 CREATING REGIONAL PREDICTION MODELS FOR 2025...")

def create_regional_prediction_models(df_regional):
    """Create prediction models for each ERCOT region individually"""
    
    if df_regional.empty:
        print("❌ No regional data available for predictions")
        return {}
    
    regional_predictions = {}
    target_year = 2025
    
    for region in sorted(df_regional['Region'].unique()):
        print(f"\n🗺️ Predicting {ERCOT_REGIONS.get(region, region)} region for 2025...")
        
        # Filter data for this region
        region_data = df_regional[df_regional['Region'] == region].copy()
        
        if len(region_data) < 12:  # Need at least 1 year of data
            print(f"   ⚠️ Insufficient data for {region} (only {len(region_data)} records)")
            continue
        
        # Prepare features and targets
        region_data = region_data.sort_values(['Year', 'Month'])
        X = region_data['Years_Since_Start'].values.reshape(-1, 1)
        y = region_data['Consumption_GWh'].values
        
        # Create multiple models
        models = {}
        predictions = {}
        scores = {}
        
        try:
            # 1. Linear Regression
            linear_model = LinearRegression()
            linear_model.fit(X, y)
            linear_pred = linear_model.predict([[target_year - df_regional['Year'].min()]])
            models['Linear'] = linear_model
            predictions['Linear'] = float(linear_pred[0])
            scores['Linear'] = linear_model.score(X, y)
            
            # 2. Polynomial Regression (degree 2)
            poly_features = PolynomialFeatures(degree=2)
            X_poly = poly_features.fit_transform(X)
            poly_model = LinearRegression()
            poly_model.fit(X_poly, y)
            X_target_poly = poly_features.transform([[target_year - df_regional['Year'].min()]])
            poly_pred = poly_model.predict(X_target_poly)
            models['Polynomial'] = (poly_model, poly_features)
            predictions['Polynomial'] = float(poly_pred[0])
            scores['Polynomial'] = poly_model.score(X_poly, y)
            
            # 3. Random Forest
            rf_model = RandomForestRegressor(n_estimators=100, random_state=42)
            rf_model.fit(X, y)
            rf_pred = rf_model.predict([[target_year - df_regional['Year'].min()]])
            models['Random_Forest'] = rf_model
            predictions['Random_Forest'] = float(rf_pred[0])
            scores['Random_Forest'] = rf_model.score(X, y)
            
            # 4. Gradient Boosting for complex patterns
            gb_model = GradientBoostingRegressor(n_estimators=100, random_state=42)
            gb_model.fit(X, y)
            gb_pred = gb_model.predict([[target_year - df_regional['Year'].min()]])
            models['Gradient_Boosting'] = gb_model
            predictions['Gradient_Boosting'] = float(gb_pred[0])
            scores['Gradient_Boosting'] = gb_model.score(X, y)
            
            # 5. Ensemble prediction
            if predictions:
                ensemble_pred = np.mean(list(predictions.values()))
                predictions['Ensemble'] = float(ensemble_pred)
                
                # Monte Carlo uncertainty quantification
                uncertainty = monte_carlo_prediction(ensemble_pred, uncertainty_pct=0.12)
                
                # Store results
                regional_predictions[region] = {
                    'predictions': predictions,
                    'models': models,
                    'scores': scores,
                    'uncertainty': uncertainty,
                    'historical_data': region_data,
                    'best_model': max(scores, key=scores.get) if scores else 'Ensemble',
                    'region_name': ERCOT_REGIONS.get(region, region)
                }
                
                print(f"   ✅ {region} models created:")
                for model_name, pred in predictions.items():
                    score = scores.get(model_name, 0)
                    print(f"      {model_name}: {pred:,.0f} GWh (R² = {score:.3f})")
                
                print(f"   🎯 Best Model: {regional_predictions[region]['best_model']}")
                print(f"   📊 Uncertainty Range: {uncertainty['confidence_95_lower']:,.0f} - {uncertainty['confidence_95_upper']:,.0f} GWh")
                
        except Exception as e:
            print(f"   ❌ Error creating models for {region}: {e}")
    
    return regional_predictions

# Create regional prediction models
regional_predictions = create_regional_prediction_models(df_regional)

print(f"\n🌍 REGIONAL PREDICTIONS COMPLETED!")
print(f"   🗺️ Successfully created models for: {len(regional_predictions)} regions")
print(f"   🎯 Target year: 2025")

if regional_predictions:
    print(f"\n📊 2025 REGIONAL CONSUMPTION PREDICTIONS:")
    total_regional_predicted = 0
    
    for region, data in regional_predictions.items():
        region_name = data['region_name']
        ensemble_pred = data['predictions'].get('Ensemble', 0)
        best_model = data['best_model']
        best_pred = data['predictions'].get(best_model, ensemble_pred)
        total_regional_predicted += best_pred
        
        uncertainty = data['uncertainty']
        range_str = f"[{uncertainty['confidence_95_lower']:,.0f} - {uncertainty['confidence_95_upper']:,.0f}]"
        
        # Calculate percentage of total
        percentage = (best_pred / sum([d['predictions'].get(d['best_model'], 0) 
                                     for d in regional_predictions.values()])) * 100
        
        print(f"   🗺️ {region_name} ({region}): {best_pred:,.0f} GWh ({percentage:.1f}%) {range_str}")
    
    print(f"\n🎯 TOTAL REGIONAL CONSUMPTION 2025: {total_regional_predicted:,.0f} GWh")
    
    # Compare with latest year
    if not df_regional.empty:
        latest_year = df_regional['Year'].max()
        latest_total = df_regional[df_regional['Year'] == latest_year]['Consumption_GWh'].sum()
        growth_rate = ((total_regional_predicted / latest_total) - 1) * 100
        print(f"   📈 Growth from {latest_year}: {growth_rate:+.1f}%")
        
        # Regional growth analysis
        print(f"\n📈 REGIONAL GROWTH ANALYSIS:")
        for region, data in regional_predictions.items():
            region_name = data['region_name']
            best_pred = data['predictions'].get(data['best_model'], 0)
            
            # Historical average for this region
            historical_avg = data['historical_data']['Consumption_GWh'].mean()
            region_growth = ((best_pred / historical_avg) - 1) * 100
            
            print(f"   🗺️ {region_name}: {region_growth:+.1f}% growth from historical average")

else:
    print("❌ No regional predictions could be created")# ⚡ Individual Fuel Type Prediction Models
print("⚡ CREATING INDIVIDUAL FUEL TYPE PREDICTION MODELS FOR 2025...")

def create_fuel_prediction_models(df_fuels):
    """Create prediction models for each fuel type individually"""
    
    if df_fuels.empty:
        print("❌ No fuel data available for predictions")
        return {}
    
    fuel_predictions = {}
    model_performance = {}
    
    # Target year for predictions
    target_year = 2025
    
    for fuel_type in sorted(df_fuels['Fuel_Type'].unique()):
        print(f"\n🔋 Predicting {fuel_type} for 2025...")
        
        # Filter data for this fuel type
        fuel_data = df_fuels[df_fuels['Fuel_Type'] == fuel_type].copy()
        
        if len(fuel_data) < 12:  # Need at least 1 year of data
            print(f"   ⚠️ Insufficient data for {fuel_type} (only {len(fuel_data)} records)")
            continue
        
        # Prepare features and targets
        fuel_data = fuel_data.sort_values(['Year', 'Month'])
        X = fuel_data['Years_Since_Start'].values.reshape(-1, 1)
        y = fuel_data['Generation_GWh'].values
        
        # Create multiple models
        models = {}
        predictions = {}
        scores = {}
        
        try:
            # 1. Linear Regression
            linear_model = LinearRegression()
            linear_model.fit(X, y)
            linear_pred = linear_model.predict([[target_year - df_fuels['Year'].min()]])
            models['Linear'] = linear_model
            predictions['Linear'] = float(linear_pred[0])
            scores['Linear'] = linear_model.score(X, y)
            
            # 2. Polynomial Regression (degree 2)
            poly_features = PolynomialFeatures(degree=2)
            X_poly = poly_features.fit_transform(X)
            poly_model = LinearRegression()
            poly_model.fit(X_poly, y)
            X_target_poly = poly_features.transform([[target_year - df_fuels['Year'].min()]])
            poly_pred = poly_model.predict(X_target_poly)
            models['Polynomial'] = (poly_model, poly_features)
            predictions['Polynomial'] = float(poly_pred[0])
            scores['Polynomial'] = poly_model.score(X_poly, y)
            
            # 3. Random Forest
            rf_model = RandomForestRegressor(n_estimators=100, random_state=42)
            rf_model.fit(X, y)
            rf_pred = rf_model.predict([[target_year - df_fuels['Year'].min()]])
            models['Random_Forest'] = rf_model
            predictions['Random_Forest'] = float(rf_pred[0])
            scores['Random_Forest'] = rf_model.score(X, y)
            
            # 4. Exponential fitting for rapidly growing renewables
            if fuel_type in ['Wind', 'Solar'] and len(fuel_data) >= 5:
                try:
                    # Fit exponential curve
                    x_data = fuel_data['Years_Since_Start'].values
                    y_data = fuel_data['Generation_GWh'].values
                    
                    # Initial guess for exponential parameters
                    initial_guess = [y_data.min(), 0.1, y_data.max() - y_data.min()]
                    popt, _ = curve_fit(exponential_growth, x_data, y_data, 
                                       p0=initial_guess, maxfev=5000)
                    
                    exp_pred = exponential_growth(target_year - df_fuels['Year'].min(), *popt)
                    predictions['Exponential'] = float(exp_pred)
                    
                    # Calculate R² for exponential model
                    y_pred_exp = exponential_growth(x_data, *popt)
                    ss_res = np.sum((y_data - y_pred_exp) ** 2)
                    ss_tot = np.sum((y_data - np.mean(y_data)) ** 2)
                    scores['Exponential'] = 1 - (ss_res / ss_tot)
                    
                except Exception as e:
                    print(f"   ⚠️ Exponential fitting failed for {fuel_type}: {e}")
            
            # 5. Ensemble prediction (average of all models)
            if predictions:
                ensemble_pred = np.mean(list(predictions.values()))
                predictions['Ensemble'] = float(ensemble_pred)
                
                # Monte Carlo uncertainty quantification
                uncertainty = monte_carlo_prediction(ensemble_pred, uncertainty_pct=0.20)
                
                # Store results
                fuel_predictions[fuel_type] = {
                    'predictions': predictions,
                    'models': models,
                    'scores': scores,
                    'uncertainty': uncertainty,
                    'historical_data': fuel_data,
                    'best_model': max(scores, key=scores.get) if scores else 'Ensemble'
                }
                
                print(f"   ✅ {fuel_type} models created:")
                for model_name, pred in predictions.items():
                    score = scores.get(model_name, 0)
                    print(f"      {model_name}: {pred:,.0f} GWh (R² = {score:.3f})")
                
                print(f"   🎯 Best Model: {fuel_predictions[fuel_type]['best_model']}")
                print(f"   📊 Uncertainty Range: {uncertainty['confidence_95_lower']:,.0f} - {uncertainty['confidence_95_upper']:,.0f} GWh")
                
        except Exception as e:
            print(f"   ❌ Error creating models for {fuel_type}: {e}")
    
    return fuel_predictions

# Create fuel type prediction models
fuel_predictions = create_fuel_prediction_models(df_fuels)

print(f"\n⚡ FUEL TYPE PREDICTIONS COMPLETED!")
print(f"   🔋 Successfully created models for: {len(fuel_predictions)} fuel types")
print(f"   🎯 Target year: 2025")

if fuel_predictions:
    print(f"\n📊 2025 FUEL TYPE PREDICTIONS SUMMARY:")
    total_predicted = 0
    for fuel, data in fuel_predictions.items():
        ensemble_pred = data['predictions'].get('Ensemble', 0)
        best_model = data['best_model']
        best_pred = data['predictions'].get(best_model, ensemble_pred)
        total_predicted += best_pred
        
        uncertainty = data['uncertainty']
        range_str = f"[{uncertainty['confidence_95_lower']:,.0f} - {uncertainty['confidence_95_upper']:,.0f}]"
        
        print(f"   🔋 {fuel}: {best_pred:,.0f} GWh {range_str}")
    
    print(f"\n🎯 TOTAL PREDICTED GENERATION 2025: {total_predicted:,.0f} GWh")
    
    # Compare with latest year
    if not df_fuels.empty:
        latest_year = df_fuels['Year'].max()
        latest_total = df_fuels[df_fuels['Year'] == latest_year]['Generation_GWh'].sum()
        growth_rate = ((total_predicted / latest_total) - 1) * 100
        print(f"   📈 Growth from {latest_year}: {growth_rate:+.1f}%")

else:
    print("❌ No fuel predictions could be created")# 📊 Comprehensive Data Loading for Predictions
print("📊 LOADING COMPREHENSIVE HISTORICAL DATA FOR PREDICTIONS...")

def load_comprehensive_fuel_data():
    """Load detailed fuel-by-fuel generation data for all years"""
    generation_files = {
        2014: "IntGenByFuel2014.xlsx", 2015: "IntGenByFuel2015.xlsx", 
        2016: "IntGenByFuel2016.xlsx", 2017: "IntGenbyFuel2017.xlsx",
        2018: "IntGenbyFuel2018.xlsx", 2019: "IntGenbyFuel2019.xlsx",
        2020: "IntGenbyFuel2020.xlsx", 2021: "IntGenbyFuel2021.xlsx",
        2022: "IntGenbyFuel2022.xlsx", 2023: "IntGenbyFuel2023.xlsx",
        2024: "IntGenbyFuel2024.xlsx"
    }
    
    all_fuel_data = []
    
    for year in sorted(generation_files.keys()):
        filename = generation_files[year]
        if not os.path.exists(filename):
            print(f"   ❌ {year}: File {filename} not found")
            continue
            
        try:
            # Try different parsing strategies
            df = None
            for skiprows in [0, 2, 4, 5, 6, 8, 10]:
                try:
                    df = pd.read_excel(filename, sheet_name="Summary", skiprows=skiprows)
                    if len(df) > 5 and len(df.columns) > 3:
                        break
                except:
                    continue
            
            if df is None:
                print(f"   ❌ {year}: Could not parse file")
                continue
            
            # Standardize fuel types
            fuel_mapping = {
                'coal': 'Coal', 'gas': 'Natural Gas', 'natural gas': 'Natural Gas',
                'nuclear': 'Nuclear', 'wind': 'Wind', 'solar': 'Solar',
                'hydro': 'Hydro', 'biomass': 'Biomass', 'other': 'Other'
            }
            
            # Clean column names and find fuel column
            df.columns = [str(col).strip() for col in df.columns]
            fuel_col = df.columns[0] if len(df.columns) > 0 else None
            
            if fuel_col is None:
                continue
                
            df[fuel_col] = df[fuel_col].astype(str).str.lower().str.strip()
            df['Fuel_Standardized'] = df[fuel_col].apply(
                lambda x: next((std for key, std in fuel_mapping.items() if key in x), 'Other')
            )
            
            # Process monthly data
            months = ['Jan', 'Feb', 'Mar', 'Apr', 'May', 'Jun', 
                     'Jul', 'Aug', 'Sep', 'Oct', 'Nov', 'Dec']
            
            for month_idx, month in enumerate(months, 1):
                month_cols = [col for col in df.columns if month.lower() in str(col).lower()]
                if month_cols:
                    month_data = df.groupby('Fuel_Standardized')[month_cols[0]].sum()
                    
                    for fuel, generation in month_data.items():
                        if pd.notna(generation) and generation > 0:
                            all_fuel_data.append({
                                'Year': year,
                                'Month': month_idx,
                                'Fuel_Type': fuel,
                                'Generation_GWh': float(generation)
                            })
            
            fuel_total = sum([row['Generation_GWh'] for row in all_fuel_data if row['Year'] == year])
            print(f"   ✅ {year}: {len(set([row['Fuel_Type'] for row in all_fuel_data if row['Year'] == year]))} fuel types, {fuel_total:,.0f} GWh total")
            
        except Exception as e:
            print(f"   ❌ {year}: Error loading - {e}")
    
    return pd.DataFrame(all_fuel_data)

def load_comprehensive_regional_data():
    """Load regional consumption data for all available years"""
    regional_patterns = [
        "Native_Load_*.xlsx", "native_load_*.xlsx", 
        "native_Load_*.xlsx", "native_load_*.xls"
    ]
    
    all_files = []
    for pattern in regional_patterns:
        all_files.extend(glob.glob(pattern))
    
    all_regional_data = []
    
    for filename in sorted(set(all_files)):
        # Extract year from filename
        year_match = None
        for year in range(2014, 2025):
            if str(year) in filename:
                year_match = year
                break
        
        if year_match is None:
            continue
            
        try:
            # Load file
            if filename.endswith('.xls'):
                df = pd.read_excel(filename, sheet_name=0, engine='xlrd')
            else:
                df = pd.read_excel(filename, sheet_name=0)
            
            # Clean columns
            df.columns = [str(col).strip().upper() for col in df.columns]
            
            # Find datetime column
            datetime_col = None
            for col in ['HOUR ENDING', 'HOURENDING', 'HOUR_ENDING', 'DATE']:
                if col in df.columns:
                    datetime_col = col
                    break
            
            if datetime_col is None:
                continue
                
            # Process datetime
            df[datetime_col] = pd.to_datetime(df[datetime_col], errors='coerce')
            df = df.dropna(subset=[datetime_col])
            df['Month'] = df[datetime_col].dt.month
            df['Year'] = year_match
            
            # Find regional columns
            regional_cols = [col for col in df.columns if any(region in col for region in ERCOT_REGIONS.keys())]
            
            # Convert to numeric and aggregate monthly
            for col in regional_cols:
                df[col] = pd.to_numeric(df[col], errors='coerce')
            
            if regional_cols:
                monthly_data = df.groupby('Month')[regional_cols].sum()
                
                for month in range(1, 13):
                    if month in monthly_data.index:
                        for col in regional_cols:
                            # Extract region name
                            region = None
                            for region_code in ERCOT_REGIONS.keys():
                                if region_code in col:
                                    region = region_code
                                    break
                            
                            if region and pd.notna(monthly_data.loc[month, col]):
                                all_regional_data.append({
                                    'Year': year_match,
                                    'Month': month,
                                    'Region': region,
                                    'Consumption_GWh': monthly_data.loc[month, col] / 1000  # MW to GWh
                                })
            
            regions_found = len(set([row['Region'] for row in all_regional_data if row['Year'] == year_match]))
            total_consumption = sum([row['Consumption_GWh'] for row in all_regional_data if row['Year'] == year_match])
            print(f"   ✅ {year_match}: {regions_found} regions, {total_consumption:,.0f} GWh total consumption")
            
        except Exception as e:
            print(f"   ❌ {filename}: Error loading - {e}")
    
    return pd.DataFrame(all_regional_data)

# Load comprehensive datasets
print("🔄 Loading fuel generation data...")
df_fuels = load_comprehensive_fuel_data()

print("\n🔄 Loading regional consumption data...")
df_regional = load_comprehensive_regional_data()

if not df_fuels.empty:
    print(f"\n⚡ FUEL DATA SUMMARY:")
    print(f"   📊 Years: {df_fuels['Year'].min()}-{df_fuels['Year'].max()}")
    print(f"   🔋 Fuel Types: {sorted(df_fuels['Fuel_Type'].unique())}")
    print(f"   📈 Total Records: {len(df_fuels):,}")
    
    # Create year-month index for time series
    df_fuels['Date'] = pd.to_datetime(df_fuels[['Year', 'Month']].assign(day=1))
    df_fuels['Years_Since_Start'] = (df_fuels['Year'] - df_fuels['Year'].min())

if not df_regional.empty:
    print(f"\n🌍 REGIONAL DATA SUMMARY:")
    print(f"   📊 Years: {df_regional['Year'].min()}-{df_regional['Year'].max()}")
    print(f"   🗺️ Regions: {sorted(df_regional['Region'].unique())}")
    print(f"   📈 Total Records: {len(df_regional):,}")
    
    # Create year-month index for time series
    df_regional['Date'] = pd.to_datetime(df_regional[['Year', 'Month']].assign(day=1))
    df_regional['Years_Since_Start'] = (df_regional['Year'] - df_regional['Year'].min())

print(f"\n🔮 READY FOR COMPREHENSIVE 2025 PREDICTIONS!")
print(f"   ⚡ Fuel prediction models: {len(df_fuels['Fuel_Type'].unique()) if not df_fuels.empty else 0}")
print(f"   🌍 Regional prediction models: {len(df_regional['Region'].unique()) if not df_regional.empty else 0}")
print(f"   🎯 Total prediction scope: Individual + Integrated ensemble models")# 🔮 Advanced Prediction Environment Setup
import pandas as pd
import numpy as np
import matplotlib.pyplot as plt
import seaborn as sns
import plotly.graph_objects as go
import plotly.express as px
from plotly.subplots import make_subplots
import plotly.figure_factory as ff
from sklearn.ensemble import RandomForestRegressor, GradientBoostingRegressor
from sklearn.preprocessing import PolynomialFeatures
from sklearn.linear_model import LinearRegression, Ridge
from sklearn.model_selection import train_test_split, cross_val_score
from sklearn.metrics import mean_absolute_error, mean_squared_error, r2_score
from scipy import stats
from scipy.optimize import curve_fit
from datetime import datetime, timedelta
import glob
import os
import warnings
warnings.filterwarnings('ignore')

# Enhanced prediction functions
def exponential_growth(x, a, b, c):
    """Exponential growth model for rapid technology adoption"""
    return a * np.exp(b * x) + c

def logistic_growth(x, L, k, x0, b):
    """Logistic S-curve for technology saturation"""
    return L / (1 + np.exp(-k * (x - x0))) + b

def polynomial_trend(x, degree=2):
    """Polynomial trend fitting"""
    poly_features = PolynomialFeatures(degree=degree)
    return poly_features.fit_transform(x.reshape(-1, 1))

def seasonal_decompose_predict(data, periods=12):
    """Simple seasonal decomposition for monthly data"""
    if len(data) < periods:
        return data.mean()
    
    # Calculate seasonal pattern
    seasonal = []
    for i in range(periods):
        seasonal_values = [data[j] for j in range(i, len(data), periods)]
        seasonal.append(np.mean(seasonal_values))
    
    # Detrend
    trend = np.polyfit(range(len(data)), data, 1)
    
    return seasonal, trend

def monte_carlo_prediction(base_prediction, uncertainty_pct=0.15, n_simulations=1000):
    """Monte Carlo simulation for uncertainty quantification"""
    std = base_prediction * uncertainty_pct
    simulations = np.random.normal(base_prediction, std, n_simulations)
    
    return {
        'mean': np.mean(simulations),
        'std': np.std(simulations),
        'confidence_95_lower': np.percentile(simulations, 2.5),
        'confidence_95_upper': np.percentile(simulations, 97.5),
        'confidence_80_lower': np.percentile(simulations, 10),
        'confidence_80_upper': np.percentile(simulations, 90)
    }

# Prediction constants
ERCOT_REGIONS = {
    'COAST': 'Coast',
    'EAST': 'East', 
    'FWEST': 'Far West',
    'NORTH': 'North',
    'NCENT': 'North Central',
    'SOUTH': 'South',
    'SCENT': 'South Central', 
    'WEST': 'West'
}

FUEL_TYPES = ['Wind', 'Solar', 'Natural Gas', 'Coal', 'Nuclear', 'Hydro', 'Biomass', 'Other']

print("🔮 ERCOT 2025 Comprehensive Prediction Environment Ready!")
print("🎯 Focus: Advanced forecasting for all fuel types and regions")
print("📊 Capabilities: Multiple ML models, uncertainty quantification, ensemble methods")
print(f"🌍 Regions to predict: {len(ERCOT_REGIONS)} zones")
print(f"⚡ Fuel types to predict: {len(FUEL_TYPES)} sources")# 🔮 ERCOT 2025 Comprehensive Prediction Models
## Advanced Forecasting for All Energy Sources, Fuel Types, and Regions

**🎯 Objective**: Create sophisticated prediction models for 2025 ERCOT electricity generation and consumption across all dimensions - individual fuel types, regional breakdown, and integrated ensemble models.

**🧠 Prediction Framework**:
1. **Individual Fuel Type Models** - Separate models for each generation source
2. **Regional Prediction Models** - Independent forecasts for all 8 ERCOT zones
3. **Integrated Ensemble Models** - Combined predictions using multiple techniques
4. **Uncertainty Quantification** - Confidence intervals and prediction ranges
5. **Scenario Analysis** - Conservative, likely, and optimistic projections
6. **Cross-Validation** - Model validation and performance assessment

**🔬 Advanced Forecasting Techniques**:
- **Time Series Analysis** - ARIMA and exponential smoothing
- **Machine Learning** - Random Forest, Gradient Boosting, Neural Networks
- **Regression Models** - Linear, polynomial, and non-linear fitting
- **Ensemble Methods** - Model averaging and weighted predictions
- **Seasonal Decomposition** - Trend, seasonal, and cyclical components
- **Monte Carlo Simulation** - Probabilistic forecasting

**📊 Prediction Outputs**:
- **Monthly 2025 forecasts** for all fuel types
- **Regional consumption projections** for all 8 zones
- **Integrated market forecasts** with confidence intervals
- **Technology transition scenarios** (renewable acceleration)
- **Economic impact projections** for 2025 market
- **Grid balance and reliability forecasts**

**🎨 Comprehensive Visualizations**:
- Individual fuel type prediction charts with confidence bands
- Regional forecast maps and evolution charts
- Ensemble model comparison dashboards
- Uncertainty visualization and risk assessment
- Scenario comparison matrices
- Interactive prediction exploration tools

---