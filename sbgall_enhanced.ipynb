# ENHANCED VISUALIZATION 1: Interactive Multi-Year Energy Evolution Dashboard
print("🎨 Creating Interactive Multi-Year Energy Evolution Dashboard...")

if df_pivot is not None:
    # Create comprehensive multi-year analysis
    fig = make_subplots(
        rows=2, cols=2,
        subplot_titles=('Decade Energy Generation Evolution', 
                       'Renewable Energy Growth Trajectory', 
                       'Fuel Mix Transformation (Stacked %)',
                       'Year-over-Year Growth Rates'),
        specs=[[{"secondary_y": False}, {"secondary_y": True}],
               [{"secondary_y": False}, {"secondary_y": False}]],
        vertical_spacing=0.12,
        horizontal_spacing=0.1
    )
    
    # Define color scheme for fuel types
    fuel_colors = {
        'Wind': '#2E8B57',           # Green for renewable
        'Solar': '#FFD700',          # Gold for solar
        'Natural Gas': '#CD5C5C',    # Red for fossil
        'Natural Gas-CC': '#FF6347', # Tomato for gas combined cycle
        'Natural Gas-CT': '#DC143C', # Crimson for gas combustion turbine
        'Coal': '#2F4F4F',           # Dark gray for coal
        'Nuclear': '#8A2BE2',        # Purple for nuclear
        'Hydro': '#00CED1',          # Cyan for hydro
        'Biomass': '#228B22',        # Forest green for biomass
        'Other': '#808080'           # Gray for other
    }
    
    years = sorted(df_pivot.index)
    
    # 1. Overall evolution - stacked area chart
    for fuel_type in df_pivot.columns:
        if fuel_type in df_pivot.columns:
            values = df_pivot[fuel_type].values
            color = fuel_colors.get(fuel_type, '#888888')
            
            fig.add_trace(
                go.Scatter(
                    x=years, y=values,
                    mode='lines',
                    stackgroup='one',
                    name=fuel_type,
                    fill='tonexty',
                    line=dict(color=color, width=0),
                    hovertemplate=f"{fuel_type}<br>" +
                                 "Year: %{x}<br>" +
                                 "Energy: %{y:,.0f} GWh<extra></extra>"
                ),
                row=1, col=1
            )
    
    # 2. Renewable energy focus
    renewable_sources = ['Wind', 'Solar', 'Hydro', 'Biomass']
    renewable_data = df_pivot[[col for col in renewable_sources if col in df_pivot.columns]]
    
    total_renewable = renewable_data.sum(axis=1)
    total_generation = df_pivot.sum(axis=1)
    renewable_percentage = (total_renewable / total_generation * 100)
    
    # Plot renewable totals
    fig.add_trace(
        go.Scatter(
            x=years, y=total_renewable,
            mode='lines+markers',
            name='Total Renewable',
            line=dict(color='green', width=4),
            marker=dict(size=8),
            hovertemplate="Total Renewable<br>" +
                         "Year: %{x}<br>" +
                         "Energy: %{y:,.0f} GWh<extra></extra>"
        ),
        row=1, col=2
    )
    
    # Add renewable percentage on secondary y-axis
    fig.add_trace(
        go.Scatter(
            x=years, y=renewable_percentage,
            mode='lines+markers',
            name='Renewable %',
            line=dict(color='orange', width=3, dash='dash'),
            marker=dict(size=6),
            yaxis='y2',
            hovertemplate="Renewable Percentage<br>" +
                         "Year: %{x}<br>" +
                         "Percentage: %{y:.1f}%<extra></extra>"
        ),
        row=1, col=2
    )
    
    # 3. Fuel mix percentages (stacked 100%)
    df_percentage = df_pivot.div(df_pivot.sum(axis=1), axis=0) * 100
    
    for fuel_type in df_percentage.columns:
        values = df_percentage[fuel_type].values
        color = fuel_colors.get(fuel_type, '#888888')
        
        fig.add_trace(
            go.Scatter(
                x=years, y=values,
                mode='lines',
                stackgroup='two',
                name=fuel_type,
                fill='tonexty',
                line=dict(color=color, width=0),
                showlegend=False,
                hovertemplate=f"{fuel_type}<br>" +
                             "Year: %{x}<br>" +
                             "Share: %{y:.1f}%<extra></extra>"
            ),
            row=2, col=1
        )
    
    # 4. Year-over-year growth rates
    growth_rates = df_pivot.pct_change() * 100
    
    # Focus on key fuel types for growth analysis
    key_fuels = ['Wind', 'Solar', 'Natural Gas', 'Coal', 'Nuclear']
    available_key_fuels = [fuel for fuel in key_fuels if fuel in growth_rates.columns]
    
    for fuel_type in available_key_fuels:
        values = growth_rates[fuel_type].values[1:]  # Skip first NaN value
        years_growth = years[1:]
        color = fuel_colors.get(fuel_type, '#888888')
        
        fig.add_trace(
            go.Scatter(
                x=years_growth, y=values,
                mode='lines+markers',
                name=fuel_type,
                line=dict(color=color, width=2),
                marker=dict(size=5),
                showlegend=False,
                hovertemplate=f"{fuel_type}<br>" +
                             "Year: %{x}<br>" +
                             "Growth: %{y:.1f}%<extra></extra>"
            ),
            row=2, col=2
        )
    
    # Add zero line for reference
    fig.add_hline(y=0, line_dash="dash", line_color="gray", row=2, col=2)
    
    # Update layout
    fig.update_layout(
        height=800,
        title_text="ERCOT Multi-Year Evolution: Energy Generation Transformation (2014-2024)",
        title_x=0.5,
        title_font_size=20,
        showlegend=True,
        legend=dict(x=1.05, y=1),
        plot_bgcolor='white'
    )
    
    # Update axes
    fig.update_xaxes(title_text="Year", row=1, col=1)
    fig.update_yaxes(title_text="Energy Generation (GWh)", row=1, col=1)
    
    fig.update_xaxes(title_text="Year", row=1, col=2)
    fig.update_yaxes(title_text="Renewable Energy (GWh)", row=1, col=2)
    fig.update_yaxes(title_text="Renewable Percentage (%)", secondary_y=True, row=1, col=2)
    
    fig.update_xaxes(title_text="Year", row=2, col=1)
    fig.update_yaxes(title_text="Fuel Mix Share (%)", row=2, col=1)
    
    fig.update_xaxes(title_text="Year", row=2, col=2)
    fig.update_yaxes(title_text="Year-over-Year Growth (%)", row=2, col=2)
    
    fig.show()
    
    print("✅ Interactive multi-year dashboard created successfully!")
    
    # Print key insights
    print(f"\n📊 KEY DECADE INSIGHTS:")
    print(f"📈 Renewable energy growth: {total_renewable.iloc[0]:.0f} → {total_renewable.iloc[-1]:.0f} GWh")
    print(f"🌱 Renewable share: {renewable_percentage.iloc[0]:.1f}% → {renewable_percentage.iloc[-1]:.1f}%")
    
    if 'Wind' in df_pivot.columns:
        wind_growth = ((df_pivot['Wind'].iloc[-1] / df_pivot['Wind'].iloc[0]) - 1) * 100
        print(f"💨 Wind energy growth: {wind_growth:.0f}% over the period")
    
    if 'Solar' in df_pivot.columns and df_pivot['Solar'].iloc[0] > 0:
        solar_growth = ((df_pivot['Solar'].iloc[-1] / df_pivot['Solar'].iloc[0]) - 1) * 100
        print(f"☀️ Solar energy growth: {solar_growth:.0f}% over the period")
    
else:
    print("❌ Cannot create visualization - no data available")# Enhanced Data Loading and Processing
print("🔄 Loading and processing multi-year ERCOT data...")

# Define available files and years
available_files = {
    2014: "IntGenByFuel2014.xlsx",
    2015: "IntGenByFuel2015.xlsx", 
    2016: "IntGenByFuel2016.xlsx",
    2017: "IntGenbyFuel2017.xlsx",
    2018: "IntGenbyFuel2018.xlsx",
    2019: "IntGenbyFuel2019.xlsx",
    2020: "IntGenbyFuel2020.xlsx",
    2022: "IntGenbyFuel2022.xlsx",
    2024: "IntGenbyFuel2024.xlsx"
}

def load_yearly_data(file_path, year):
    """
    Enhanced data loading function with better error handling and data cleaning
    """
    try:
        # Read the data with proper skip rows (6 works best for most files)
        df = pd.read_excel(file_path, sheet_name="Summary", skiprows=6)
        
        # Clean column names - remove asterisks and standardize
        new_columns = []
        for col in df.columns:
            if isinstance(col, str):
                clean_col = col.replace('*', '').strip()
                new_columns.append(clean_col)
            else:
                new_columns.append(str(col))
        
        df.columns = new_columns
        
        # Set proper column names
        expected_columns = ["Fuel Type", "Jan", "Feb", "Mar", "Apr", "May", "Jun", 
                           "Jul", "Aug", "Sep", "Oct", "Nov", "Dec", "Total"]
        
        # If we don't have the right number of columns, try different approach
        if len(df.columns) != len(expected_columns):
            # Try to identify columns by position
            df = df.iloc[:, :len(expected_columns)]
            df.columns = expected_columns[:len(df.columns)]
        else:
            df.columns = expected_columns
        
        # Clean fuel type names and remove unwanted rows
        df = df.dropna(subset=['Fuel Type'])
        df['Fuel Type'] = df['Fuel Type'].astype(str)
        
        # Remove header rows and unwanted entries
        unwanted_entries = [
            "Energy, GWh", "nan", "Fuel Type",
            "* Chart excludes Wholesale Storage Load",
            "* Information for this month has been updated", 
            "Total", "TOTAL"
        ]
        
        for entry in unwanted_entries:
            df = df[~df['Fuel Type'].str.contains(entry, na=False, case=False)]
        
        # Convert numeric columns
        numeric_columns = ["Jan", "Feb", "Mar", "Apr", "May", "Jun", 
                          "Jul", "Aug", "Sep", "Oct", "Nov", "Dec", "Total"]
        
        for col in numeric_columns:
            if col in df.columns:
                df[col] = pd.to_numeric(df[col], errors='coerce')
        
        # Remove rows where all numeric values are NaN
        df = df.dropna(subset=numeric_columns, how='all')
        
        # Add year column
        df['Year'] = year
        
        # Standardize fuel type names for consistency across years
        fuel_mapping = {
            'Gas': 'Natural Gas',
            'Gas-CC': 'Natural Gas-CC',
            'Gas-CT': 'Natural Gas-CT', 
            'Wind': 'Wind',
            'Solar': 'Solar',
            'Coal': 'Coal',
            'Nuclear': 'Nuclear',
            'Hydro': 'Hydro',
            'Biomass': 'Biomass',
            'Other': 'Other'
        }
        
        # Apply fuel type standardization
        for old_name, new_name in fuel_mapping.items():
            df.loc[df['Fuel Type'].str.contains(old_name, na=False, case=False), 'Fuel Type'] = new_name
        
        print(f"✅ {year}: Loaded {len(df)} fuel types")
        return df
        
    except Exception as e:
        print(f"❌ Error processing {file_path}: {e}")
        return None

# Load all available data
all_data = []
successful_years = []

for year, filename in available_files.items():
    try:
        df = load_yearly_data(filename, year)
        if df is not None:
            all_data.append(df)
            successful_years.append(year)
    except Exception as e:
        print(f"❌ {year}: File not found or error - {e}")

# Combine all data
if all_data:
    df_combined = pd.concat(all_data, ignore_index=True)
    print(f"\n🎉 Successfully loaded data for years: {successful_years}")
    print(f"📊 Total records: {len(df_combined)}")
    print(f"🔧 Fuel types found: {sorted(df_combined['Fuel Type'].unique())}")
    
    # Create pivot table for analysis
    df_pivot = df_combined.pivot_table(
        index='Year', 
        columns='Fuel Type', 
        values='Total', 
        aggfunc='sum',
        fill_value=0
    )
    
    print(f"\n📈 Pivot table created: {df_pivot.shape}")
    print("✅ Data processing completed successfully!")
else:
    print("❌ No data could be loaded. Please check file availability.")
    df_combined = None
    df_pivot = None# Enhanced Multi-Year ERCOT Analysis Setup
import pandas as pd
import numpy as np
import matplotlib.pyplot as plt
import seaborn as sns
import plotly.graph_objects as go
import plotly.express as px
from plotly.subplots import make_subplots
import warnings
warnings.filterwarnings('ignore')

# Install additional packages if needed
import subprocess
import sys

def install_package(package):
    try:
        __import__(package)
    except ImportError:
        subprocess.check_call([sys.executable, "-m", "pip", "install", package])

# Install required packages
packages = ['plotly', 'scipy', 'scikit-learn', 'kaleido']
for package in packages:
    install_package(package)

# Set enhanced plotting style
plt.style.use('seaborn-v0_8')
sns.set_palette("husl")

print("✅ Enhanced multi-year analytics environment ready!")
print("📊 Available data years: 2014-2020, 2022, 2024")
print("🎯 Focus: Historical trends, renewable growth, grid transformation")# Enhanced ERCOT Multi-Year Grid Analytics Dashboard (2014-2024)
## Comprehensive Historical Analysis of Texas Electricity Grid Evolution

**Objective**: Analyze the transformation of the ERCOT grid over a decade, focusing on:
- Energy generation trends by fuel type
- Renewable energy growth and adoption
- Grid reliability and sustainability evolution
- Economic and policy impact analysis
- Seasonal and cyclical patterns

**Data Coverage**: 2014-2020, 2022, 2024 (covering major energy transitions)

**Key Insights**:
- 🌱 **Renewable Energy Revolution**: Track the dramatic growth of wind and solar
- ⚡ **Grid Modernization**: Analyze changes in fuel mix and reliability
- 📈 **Economic Transformation**: Understand market dynamics and policy impacts
- 🌡️ **Climate Response**: Assess grid adaptation to climate change

---