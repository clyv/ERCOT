# ⚖️ Advanced Balance Analysis & Visualizations
print("⚖️ CREATING ADVANCED ENERGY BALANCE ANALYSIS...")

if not df_balance.empty:
    # Calculate advanced metrics
    df_balance['Month_Name'] = df_balance['Month'].map({
        1: 'Jan', 2: 'Feb', 3: 'Mar', 4: 'Apr', 5: 'May', 6: 'Jun',
        7: 'Jul', 8: 'Aug', 9: 'Sep', 10: 'Oct', 11: 'Nov', 12: 'Dec'
    })
    
    # Seasonal categorization
    df_balance['Season'] = df_balance['Month'].map({
        12: 'Winter', 1: 'Winter', 2: 'Winter',
        3: 'Spring', 4: 'Spring', 5: 'Spring',
        6: 'Summer', 7: 'Summer', 8: 'Summer',
        9: 'Fall', 10: 'Fall', 11: 'Fall'
    })
    
    # Grid stress indicators
    df_balance['Grid_Stress'] = pd.cut(
        df_balance['Balance_Ratio'], 
        bins=[0, 0.95, 1.05, 1.15, np.inf],
        labels=['Critical', 'Tight', 'Normal', 'Surplus']
    )
    
    # Create comprehensive balance visualization
    fig = make_subplots(
        rows=3, cols=2,
        subplot_titles=[
            'Supply-Demand Balance Evolution',
            'Grid Stress Distribution',
            'Seasonal Balance Patterns',
            'Balance Ratio Trends',
            'Surplus/Deficit Analysis',
            'Grid Reliability Scorecard'
        ],
        specs=[
            [{"secondary_y": True}, {"type": "pie"}],
            [{"secondary_y": False}, {"secondary_y": False}],
            [{"secondary_y": False}, {"type": "indicator"}]
        ],
        vertical_spacing=0.1
    )
    
    # 1. Supply-demand balance evolution
    years = sorted(df_balance['Year'].unique())
    for year in years[-5:]:  # Last 5 years for clarity
        year_data = df_balance[df_balance['Year'] == year]
        
        fig.add_trace(
            go.Scatter(
                x=year_data['Month'],
                y=year_data['Generation_GWh'],
                name=f'Generation {year}',
                mode='lines+markers',
                line=dict(width=2),
                opacity=0.7
            ),
            row=1, col=1
        )
        
        fig.add_trace(
            go.Scatter(
                x=year_data['Month'],
                y=year_data['Consumption_GWh'],
                name=f'Consumption {year}',
                mode='lines+markers',
                line=dict(dash='dash', width=2),
                opacity=0.7
            ),
            row=1, col=1
        )
    
    # 2. Grid stress distribution
    stress_counts = df_balance['Grid_Stress'].value_counts()
    colors = {'Critical': 'red', 'Tight': 'orange', 'Normal': 'green', 'Surplus': 'blue'}
    
    fig.add_trace(
        go.Pie(
            labels=stress_counts.index,
            values=stress_counts.values,
            name="Grid Stress",
            marker_colors=[colors.get(label, 'gray') for label in stress_counts.index],
            hovertemplate="<b>%{label}</b><br>Count: %{value}<br>Percentage: %{percent}<extra></extra>"
        ),
        row=1, col=2
    )
    
    # 3. Seasonal balance patterns
    seasonal_stats = df_balance.groupby('Season').agg({
        'Balance_GWh': ['mean', 'std'],
        'Balance_Ratio': 'mean'
    }).round(2)
    
    seasons = ['Winter', 'Spring', 'Summer', 'Fall']
    seasonal_balance = [seasonal_stats.loc[season, ('Balance_GWh', 'mean')] 
                       if season in seasonal_stats.index else 0 for season in seasons]
    seasonal_std = [seasonal_stats.loc[season, ('Balance_GWh', 'std')] 
                   if season in seasonal_stats.index else 0 for season in seasons]
    
    fig.add_trace(
        go.Bar(
            x=seasons,
            y=seasonal_balance,
            error_y=dict(type='data', array=seasonal_std),
            name='Seasonal Balance',
            marker_color=['blue', 'green', 'red', 'orange'],
            hovertemplate="<b>%{x}</b><br>Avg Balance: %{y:.0f} GWh<extra></extra>"
        ),
        row=2, col=1
    )
    
    # 4. Balance ratio trends
    monthly_trends = df_balance.groupby(['Year', 'Month'])['Balance_Ratio'].mean().reset_index()
    
    fig.add_trace(
        go.Scatter(
            x=monthly_trends['Year'] + (monthly_trends['Month']-1)/12,
            y=monthly_trends['Balance_Ratio'],
            mode='lines+markers',
            name='Balance Ratio Trend',
            line=dict(color='purple', width=3),
            hovertemplate="Year: %{x:.1f}<br>Balance Ratio: %{y:.3f}<extra></extra>"
        ),
        row=2, col=2
    )
    
    # Add critical thresholds
    fig.add_hline(y=1.0, line_dash="dash", line_color="black", 
                  annotation_text="Perfect Balance", row=2, col=2)
    fig.add_hline(y=0.95, line_dash="dot", line_color="red", 
                  annotation_text="Critical Threshold", row=2, col=2)
    
    # 5. Surplus/Deficit analysis
    surplus_deficit = df_balance.groupby(['Year', 'Surplus_Deficit']).size().unstack(fill_value=0)
    
    if 'Surplus' in surplus_deficit.columns:
        fig.add_trace(
            go.Bar(
                x=surplus_deficit.index,
                y=surplus_deficit['Surplus'],
                name='Surplus Months',
                marker_color='green',
                opacity=0.7
            ),
            row=3, col=1
        )
    
    if 'Deficit' in surplus_deficit.columns:
        fig.add_trace(
            go.Bar(
                x=surplus_deficit.index,
                y=-surplus_deficit['Deficit'],
                name='Deficit Months',
                marker_color='red',
                opacity=0.7
            ),
            row=3, col=1
        )
    
    # 6. Grid reliability scorecard
    latest_year = df_balance['Year'].max()
    latest_data = df_balance[df_balance['Year'] == latest_year]
    
    reliability_score = (latest_data['Balance_Ratio'] >= 1.0).mean() * 100
    avg_surplus = latest_data[latest_data['Balance_GWh'] > 0]['Balance_GWh'].mean()
    
    fig.add_trace(
        go.Indicator(
            mode="gauge+number+delta",
            value=reliability_score,
            domain={'x': [0, 1], 'y': [0, 1]},
            title={'text': f"Grid Reliability Score {latest_year} (%)"},
            gauge={
                'axis': {'range': [None, 100]},
                'bar': {'color': "darkgreen"},
                'steps': [
                    {'range': [0, 70], 'color': "lightgray"},
                    {'range': [70, 90], 'color': "yellow"},
                    {'range': [90, 100], 'color': "lightgreen"}
                ],
                'threshold': {
                    'line': {'color': "red", 'width': 4},
                    'thickness': 0.75,
                    'value': 95
                }
            }
        ),
        row=3, col=2
    )
    
    # Update layout
    fig.update_layout(
        height=1400,
        title={
            'text': "⚖️ ERCOT Energy Balance & Grid Stability Analysis",
            'x': 0.5,
            'font': {'size': 24, 'color': '#2E4057'}
        },
        showlegend=True,
        font=dict(size=11)
    )
    
    # Update axes
    fig.update_xaxes(title_text="Month", row=1, col=1)
    fig.update_yaxes(title_text="Energy (GWh)", row=1, col=1)
    fig.update_xaxes(title_text="Season", row=2, col=1)
    fig.update_yaxes(title_text="Average Balance (GWh)", row=2, col=1)
    fig.update_xaxes(title_text="Year", row=2, col=2)
    fig.update_yaxes(title_text="Balance Ratio", row=2, col=2)
    fig.update_xaxes(title_text="Year", row=3, col=1)
    fig.update_yaxes(title_text="Months", row=3, col=1)
    
    fig.show()
    
    # Analysis summary
    print(f"\n⚖️ ENERGY BALANCE ANALYSIS SUMMARY:")
    print(f"   📊 Analysis Period: {df_balance['Year'].min()}-{df_balance['Year'].max()}")
    print(f"   ✅ Grid Reliability: {reliability_score:.1f}% (months with surplus)")
    print(f"   📈 Average Balance Ratio: {df_balance['Balance_Ratio'].mean():.3f}")
    print(f"   🔄 Balance Volatility: {df_balance['Balance_Ratio'].std():.3f}")
    
    # Seasonal insights
    print(f"\n🌡️ SEASONAL PATTERNS:")
    for season in ['Winter', 'Spring', 'Summer', 'Fall']:
        if season in seasonal_stats.index:
            avg_balance = seasonal_stats.loc[season, ('Balance_GWh', 'mean')]
            avg_ratio = seasonal_stats.loc[season, ('Balance_Ratio', 'mean')]
            print(f"   {season}: {avg_balance:+.0f} GWh balance, {avg_ratio:.3f} ratio")
    
    # Grid stress analysis
    stress_summary = df_balance['Grid_Stress'].value_counts(normalize=True) * 100
    print(f"\n🚨 GRID STRESS DISTRIBUTION:")
    for stress, percentage in stress_summary.items():
        print(f"   {stress}: {percentage:.1f}% of months")

else:
    print("❌ No balance data available for analysis")# 📊 Data Integration: Generation + Regional Load
print("📊 INTEGRATING GENERATION AND REGIONAL LOAD DATA...")

def load_generation_data(year):
    """Load generation data for a specific year"""
    files = {
        2014: "IntGenByFuel2014.xlsx", 2015: "IntGenByFuel2015.xlsx", 
        2016: "IntGenByFuel2016.xlsx", 2017: "IntGenbyFuel2017.xlsx",
        2018: "IntGenbyFuel2018.xlsx", 2019: "IntGenbyFuel2019.xlsx",
        2020: "IntGenbyFuel2020.xlsx", 2021: "IntGenbyFuel2021.xlsx",
        2022: "IntGenbyFuel2022.xlsx", 2023: "IntGenbyFuel2023.xlsx",
        2024: "IntGenbyFuel2024.xlsx"
    }
    
    filename = files.get(year)
    if not filename:
        return None
        
    try:
        # Try different parsing strategies
        for skiprows in [0, 2, 4, 5, 6, 8, 10]:
            try:
                df = pd.read_excel(filename, sheet_name="Summary", skiprows=skiprows)
                if len(df) > 5 and len(df.columns) > 3:
                    break
            except:
                continue
        
        # Process monthly data
        months = ['Jan', 'Feb', 'Mar', 'Apr', 'May', 'Jun', 
                 'Jul', 'Aug', 'Sep', 'Oct', 'Nov', 'Dec']
        
        monthly_totals = []
        for month_idx, month in enumerate(months, 1):
            month_cols = [col for col in df.columns if month.lower() in str(col).lower()]
            if month_cols:
                total_gen = df[month_cols[0]].sum()
                monthly_totals.append({
                    'Year': year,
                    'Month': month_idx,
                    'Generation_GWh': total_gen
                })
        
        return pd.DataFrame(monthly_totals)
    except Exception as e:
        print(f"   ❌ Error loading generation for {year}: {e}")
        return None

def load_regional_data(year):
    """Load regional consumption data for a specific year"""
    patterns = [
        f"Native_Load_{year}.xlsx", f"native_load_{year}.xlsx", 
        f"native_Load_{year}.xlsx", f"native_load_{year}.xls"
    ]
    
    filename = None
    for pattern in patterns:
        if glob.glob(pattern):
            filename = glob.glob(pattern)[0]
            break
    
    if not filename:
        return None
    
    try:
        # Handle different file formats
        if filename.endswith('.xls'):
            df = pd.read_excel(filename, sheet_name=0, engine='xlrd')
        else:
            df = pd.read_excel(filename, sheet_name=0)
        
        # Clean columns
        df.columns = [str(col).strip().upper() for col in df.columns]
        
        # Find datetime column
        datetime_col = None
        for col in ['HOUR ENDING', 'HOURENDING', 'HOUR_ENDING']:
            if col in df.columns:
                datetime_col = col
                break
        
        if datetime_col:
            df[datetime_col] = pd.to_datetime(df[datetime_col], errors='coerce')
            df = df.dropna(subset=[datetime_col])
            df['Month'] = df[datetime_col].dt.month
            df['Hour'] = df[datetime_col].dt.hour
            df['Year'] = year
        
        # Find ERCOT total column
        ercot_col = None
        for col in df.columns:
            if 'ERCOT' in col.upper():
                ercot_col = col
                break
        
        if ercot_col:
            df[ercot_col] = pd.to_numeric(df[ercot_col], errors='coerce')
            
            # Calculate monthly consumption in GWh
            monthly_consumption = df.groupby('Month')[ercot_col].sum() / 1000  # MW to GWh
            
            monthly_data = []
            for month in range(1, 13):
                monthly_data.append({
                    'Year': year,
                    'Month': month,
                    'Consumption_GWh': monthly_consumption.get(month, 0)
                })
            
            return pd.DataFrame(monthly_data)
    
    except Exception as e:
        print(f"   ❌ Error loading regional data for {year}: {e}")
        return None

# Load and combine data for available years
years = range(2014, 2025)
combined_data = []

print("🔄 Loading generation and consumption data...")
for year in years:
    gen_data = load_generation_data(year)
    load_data = load_regional_data(year)
    
    if gen_data is not None and load_data is not None:
        # Merge generation and consumption
        merged = pd.merge(gen_data, load_data, on=['Year', 'Month'], how='inner')
        if not merged.empty:
            combined_data.append(merged)
            print(f"   ✅ {year}: {len(merged)} months integrated")
    else:
        print(f"   ⚠️ {year}: Missing data (Gen: {'✅' if gen_data is not None else '❌'}, Load: {'✅' if load_data is not None else '❌'})")

if combined_data:
    df_balance = pd.concat(combined_data, ignore_index=True)
    
    # Calculate balance metrics
    df_balance['Balance_GWh'] = df_balance['Generation_GWh'] - df_balance['Consumption_GWh']
    df_balance['Balance_Ratio'] = df_balance['Generation_GWh'] / df_balance['Consumption_GWh']
    df_balance['Surplus_Deficit'] = df_balance['Balance_GWh'].apply(
        lambda x: 'Surplus' if x > 0 else 'Deficit'
    )
    
    print(f"\n🎉 ENERGY BALANCE DATASET CREATED!")
    print(f"   📊 Years: {df_balance['Year'].min()}-{df_balance['Year'].max()}")
    print(f"   📈 Records: {len(df_balance)} month-year combinations")
    print(f"   ⚖️ Balance range: {df_balance['Balance_GWh'].min():.0f} to {df_balance['Balance_GWh'].max():.0f} GWh")
    
    # Display sample
    print(f"\n📋 Sample Data:")
    print(df_balance[['Year', 'Month', 'Generation_GWh', 'Consumption_GWh', 'Balance_GWh', 'Balance_Ratio']].head())
    
else:
    print("❌ No integrated data available for analysis")
    df_balance = pd.DataFrame()# ⚡ Setup: Energy Balance Analysis Environment
import pandas as pd
import numpy as np
import matplotlib.pyplot as plt
import seaborn as sns
import plotly.graph_objects as go
import plotly.express as px
from plotly.subplots import make_subplots
import plotly.io as pio
from datetime import datetime, timedelta
import glob
import warnings
warnings.filterwarnings('ignore')

# Enhanced plotting configuration
plt.style.use('seaborn-v0_8')
sns.set_palette("RdYlBu_r")
pio.renderers.default = "notebook"

print("⚡ ERCOT Energy Balance Analysis Environment Ready!")
print("🎯 Focus: Supply-demand dynamics and grid reliability")
print("📊 Capabilities: Advanced balance metrics and stability indicators")# ⚡ ERCOT Energy Balance & Grid Stability Analysis
## Supply-Demand Dynamics and Grid Reliability Assessment

**🎯 Objective**: Analyze the balance between electricity generation and regional consumption to assess grid stability, identify stress points, and evaluate reliability metrics.

**⚖️ Key Analysis Areas**:
1. **Supply-Demand Balance** - Generation vs consumption matching
2. **Grid Stress Analysis** - Peak demand vs available capacity
3. **Regional Import/Export Flows** - Inter-regional energy transfers
4. **Reliability Metrics** - Grid stability indicators
5. **Seasonal Stress Patterns** - Summer/winter peak analysis
6. **Reserve Margin Analysis** - Capacity buffer assessment

**📊 Innovative Visualizations**:
- Real-time supply-demand balance charts
- Grid stress heatmaps by region and time
- Reliability scorecard dashboards
- Energy flow diagrams between regions
- Predictive stress indicators

**🔬 Advanced Metrics**:
- Load factor analysis
- Peak-to-average ratios
- Grid stability indices
- Reserve margin calculations
- Demand volatility measurements

---