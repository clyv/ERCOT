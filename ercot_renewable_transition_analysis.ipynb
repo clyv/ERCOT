# 🌱 Revolutionary Transition Analysis & Visualizations
print("🌱 CREATING REVOLUTIONARY TRANSITION ANALYSIS...")

if not df_fuels.empty:
    # Calculate transition metrics
    years = sorted(df_fuels['Year'].unique())
    
    # Annual fuel mix evolution
    annual_fuel_mix = df_fuels.groupby(['Year', 'Fuel_Type'])['Generation_GWh'].sum().unstack(fill_value=0)
    annual_totals = annual_fuel_mix.sum(axis=1)
    annual_fuel_pct = annual_fuel_mix.div(annual_totals, axis=0) * 100
    
    # Renewable growth metrics
    renewable_data = df_fuels[df_fuels['Category'] == 'Renewable'].groupby(['Year', 'Fuel_Type'])['Generation_GWh'].sum().unstack(fill_value=0)
    
    # Carbon intensity evolution
    annual_carbon = df_fuels.groupby('Year').agg({
        'Generation_GWh': 'sum',
        'Carbon_Emissions_lbs': 'sum'
    })
    annual_carbon['Carbon_Intensity'] = annual_carbon['Carbon_Emissions_lbs'] / (annual_carbon['Generation_GWh'] * 1000)  # lbs CO2/MWh
    
    # Create revolutionary transition dashboard
    fig = make_subplots(
        rows=3, cols=2,
        subplot_titles=[
            'The Great Energy Transition (Stacked Area)',
            'Renewable Growth Acceleration',
            'Carbon Intensity Reduction',
            'Wind vs Solar Race',
            'Fossil Fuel Decline',
            'Environmental Impact Revolution'
        ],
        specs=[
            [{"secondary_y": False}, {"secondary_y": False}],
            [{"secondary_y": False}, {"secondary_y": False}],
            [{"secondary_y": False}, {"secondary_y": False}]
        ],
        vertical_spacing=0.1
    )
    
    # 1. Stacked area chart showing transition
    fuel_colors = {
        'Coal': '#8B4513',
        'Natural Gas': '#4682B4', 
        'Nuclear': '#FFD700',
        'Wind': '#32CD32',
        'Solar': '#FFA500',
        'Hydro': '#87CEEB',
        'Biomass': '#228B22',
        'Other': '#808080'
    }
    
    # Sort fuels for better visualization (renewables on top)
    fuel_order = ['Coal', 'Natural Gas', 'Nuclear', 'Other', 'Biomass', 'Hydro', 'Solar', 'Wind']
    
    for fuel in fuel_order:
        if fuel in annual_fuel_mix.columns:
            fig.add_trace(
                go.Scatter(
                    x=annual_fuel_mix.index,
                    y=annual_fuel_mix[fuel],
                    name=fuel,
                    stackgroup='one',
                    mode='none',
                    fill='tonexty',
                    fillcolor=fuel_colors.get(fuel, '#808080'),
                    hovertemplate=f"<b>{fuel}</b><br>Year: %{{x}}<br>Generation: %{{y:,.0f}} GWh<extra></extra>"
                ),
                row=1, col=1
            )
    
    # 2. Renewable growth acceleration
    if 'Renewable' in annual_summary.columns:
        renewable_growth = annual_summary['Renewable'].pct_change() * 100
        
        fig.add_trace(
            go.Scatter(
                x=annual_summary.index,
                y=annual_summary['Renewable'],
                name='Renewable Generation',
                mode='lines+markers',
                line=dict(color='green', width=4),
                marker=dict(size=8),
                hovertemplate="Year: %{x}<br>Renewable: %{y:,.0f} GWh<extra></extra>"
            ),
            row=1, col=2
        )
        
        fig.add_trace(
            go.Scatter(
                x=annual_summary.index,
                y=annual_summary['Renewable_Percentage'],
                name='Renewable %',
                mode='lines+markers',
                line=dict(color='darkgreen', width=3, dash='dash'),
                yaxis='y2',
                hovertemplate="Year: %{x}<br>Renewable: %{y:.1f}%<extra></extra>"
            ),
            row=1, col=2
        )
    
    # 3. Carbon intensity reduction
    fig.add_trace(
        go.Scatter(
            x=annual_carbon.index,
            y=annual_carbon['Carbon_Intensity'],
            name='Carbon Intensity',
            mode='lines+markers',
            line=dict(color='red', width=4),
            marker=dict(size=10),
            hovertemplate="Year: %{x}<br>Carbon Intensity: %{y:.0f} lbs CO2/MWh<extra></extra>"
        ),
        row=2, col=1
    )
    
    # Add trend line for carbon intensity
    if len(annual_carbon) > 2:
        z = np.polyfit(annual_carbon.index, annual_carbon['Carbon_Intensity'], 1)
        p = np.poly1d(z)
        fig.add_trace(
            go.Scatter(
                x=annual_carbon.index,
                y=p(annual_carbon.index),
                name='Carbon Trend',
                mode='lines',
                line=dict(color='darkred', width=2, dash='dash'),
                hovertemplate="Trend: %{y:.0f} lbs CO2/MWh<extra></extra>"
            ),
            row=2, col=1
        )
    
    # 4. Wind vs Solar race
    if 'Wind' in renewable_data.columns and 'Solar' in renewable_data.columns:
        fig.add_trace(
            go.Scatter(
                x=renewable_data.index,
                y=renewable_data['Wind'],
                name='Wind Power',
                mode='lines+markers',
                line=dict(color='lightblue', width=3),
                marker=dict(size=8),
                hovertemplate="Year: %{x}<br>Wind: %{y:,.0f} GWh<extra></extra>"
            ),
            row=2, col=2
        )
        
        fig.add_trace(
            go.Scatter(
                x=renewable_data.index,
                y=renewable_data['Solar'],
                name='Solar Power',
                mode='lines+markers',
                line=dict(color='orange', width=3),
                marker=dict(size=8),
                hovertemplate="Year: %{x}<br>Solar: %{y:,.0f} GWh<extra></extra>"
            ),
            row=2, col=2
        )
    
    # 5. Fossil fuel decline
    fossil_data = df_fuels[df_fuels['Category'] == 'Fossil'].groupby(['Year', 'Fuel_Type'])['Generation_GWh'].sum().unstack(fill_value=0)
    
    if 'Coal' in fossil_data.columns:
        fig.add_trace(
            go.Scatter(
                x=fossil_data.index,
                y=fossil_data['Coal'],
                name='Coal Decline',
                mode='lines+markers',
                line=dict(color='brown', width=3),
                marker=dict(size=6),
                hovertemplate="Year: %{x}<br>Coal: %{y:,.0f} GWh<extra></extra>"
            ),
            row=3, col=1
        )
    
    if 'Natural Gas' in fossil_data.columns:
        fig.add_trace(
            go.Scatter(
                x=fossil_data.index,
                y=fossil_data['Natural Gas'],
                name='Natural Gas',
                mode='lines+markers',
                line=dict(color='blue', width=3),
                marker=dict(size=6),
                hovertemplate="Year: %{x}<br>Natural Gas: %{y:,.0f} GWh<extra></extra>"
            ),
            row=3, col=1
        )
    
    # 6. Environmental impact (CO2 savings)
    if len(annual_carbon) > 1:
        baseline_carbon = annual_carbon['Carbon_Emissions_lbs'].iloc[0]
        carbon_savings = baseline_carbon - annual_carbon['Carbon_Emissions_lbs']
        cumulative_savings = carbon_savings.cumsum()
        
        fig.add_trace(
            go.Scatter(
                x=annual_carbon.index,
                y=carbon_savings / 1e9,  # Convert to billions
                name='Annual CO2 Reduction',
                mode='lines+markers',
                line=dict(color='green', width=3),
                marker=dict(size=8),
                hovertemplate="Year: %{x}<br>CO2 Reduction: %{y:.1f} billion lbs<extra></extra>"
            ),
            row=3, col=2
        )
        
        fig.add_trace(
            go.Scatter(
                x=annual_carbon.index,
                y=cumulative_savings / 1e9,
                name='Cumulative CO2 Savings',
                mode='lines+markers',
                line=dict(color='darkgreen', width=2, dash='dash'),
                hovertemplate="Year: %{x}<br>Total Savings: %{y:.1f} billion lbs CO2<extra></extra>"
            ),
            row=3, col=2
        )
    
    # Update layout
    fig.update_layout(
        height=1400,
        title={
            'text': "🌱 ERCOT Revolutionary Renewable Energy Transition Analysis",
            'x': 0.5,
            'font': {'size': 24, 'color': '#228B22'}
        },
        showlegend=True,
        font=dict(size=10)
    )
    
    # Update axes
    fig.update_xaxes(title_text="Year", row=1, col=1)
    fig.update_yaxes(title_text="Generation (GWh)", row=1, col=1)
    fig.update_xaxes(title_text="Year", row=1, col=2)
    fig.update_yaxes(title_text="Renewable Generation (GWh)", row=1, col=2)
    fig.update_xaxes(title_text="Year", row=2, col=1)
    fig.update_yaxes(title_text="Carbon Intensity (lbs CO2/MWh)", row=2, col=1)
    fig.update_xaxes(title_text="Year", row=2, col=2)
    fig.update_yaxes(title_text="Generation (GWh)", row=2, col=2)
    fig.update_xaxes(title_text="Year", row=3, col=1)
    fig.update_yaxes(title_text="Generation (GWh)", row=3, col=1)
    fig.update_xaxes(title_text="Year", row=3, col=2)
    fig.update_yaxes(title_text="CO2 Impact (billion lbs)", row=3, col=2)
    
    fig.show()
    
    # Revolutionary transition summary
    first_year = years[0]
    last_year = years[-1]
    
    renewable_growth_rate = ((annual_summary.loc[last_year, 'Renewable_Percentage'] / 
                            annual_summary.loc[first_year, 'Renewable_Percentage']) ** 
                           (1/(last_year - first_year)) - 1) * 100
    
    carbon_reduction = ((annual_carbon.loc[first_year, 'Carbon_Intensity'] - 
                        annual_carbon.loc[last_year, 'Carbon_Intensity']) / 
                       annual_carbon.loc[first_year, 'Carbon_Intensity']) * 100
    
    print(f"\n🌱 REVOLUTIONARY TRANSITION SUMMARY ({first_year}-{last_year}):")
    print(f"   🚀 Renewable Growth: {annual_summary.loc[first_year, 'Renewable_Percentage']:.1f}% → {annual_summary.loc[last_year, 'Renewable_Percentage']:.1f}%")
    print(f"   📈 Renewable CAGR: {renewable_growth_rate:.1f}% per year")
    print(f"   🌍 Carbon Reduction: {carbon_reduction:.1f}% decrease in intensity")
    print(f"   💚 Total CO2 Savings: {cumulative_savings.iloc[-1]/1e9:.1f} billion lbs since {first_year}")
    
    # Wind vs Solar comparison
    if 'Wind' in renewable_data.columns and 'Solar' in renewable_data.columns:
        wind_2024 = renewable_data.loc[last_year, 'Wind'] if last_year in renewable_data.index else 0
        solar_2024 = renewable_data.loc[last_year, 'Solar'] if last_year in renewable_data.index else 0
        print(f"\n⚡ RENEWABLE CHAMPIONS ({last_year}):")
        print(f"   🌪️ Wind Power: {wind_2024:,.0f} GWh")
        print(f"   ☀️ Solar Power: {solar_2024:,.0f} GWh")
        print(f"   🏆 Leader: {'Wind' if wind_2024 > solar_2024 else 'Solar'}")

else:
    print("❌ No fuel mix data available for transition analysis")# 📊 Comprehensive Fuel Mix Data Loading
print("📊 LOADING COMPREHENSIVE FUEL MIX DATA...")

def load_detailed_generation_data(year):
    """Load detailed fuel-by-fuel generation data"""
    generation_files = {
        2014: "IntGenByFuel2014.xlsx", 2015: "IntGenByFuel2015.xlsx", 
        2016: "IntGenByFuel2016.xlsx", 2017: "IntGenbyFuel2017.xlsx",
        2018: "IntGenbyFuel2018.xlsx", 2019: "IntGenbyFuel2019.xlsx",
        2020: "IntGenbyFuel2020.xlsx", 2021: "IntGenbyFuel2021.xlsx",
        2022: "IntGenbyFuel2022.xlsx", 2023: "IntGenbyFuel2023.xlsx",
        2024: "IntGenbyFuel2024.xlsx"
    }
    
    filename = generation_files.get(year)
    if not filename:
        return None
        
    try:
        # Try different parsing strategies for Summary sheet
        for skiprows in [0, 2, 4, 5, 6, 8, 10]:
            try:
                df = pd.read_excel(filename, sheet_name="Summary", skiprows=skiprows)
                if len(df) > 5 and len(df.columns) > 3:
                    break
            except:
                continue
        else:
            return None
        
        # Clean column names
        df.columns = [str(col).strip() for col in df.columns]
        
        # Find fuel type column
        fuel_col = None
        for col in df.columns:
            if any(keyword in str(col).lower() for keyword in ['fuel', 'type', 'resource']):
                fuel_col = col
                break
        
        if fuel_col is None:
            fuel_col = df.columns[0]
        
        # Standardize fuel types
        fuel_mapping = {
            'coal': 'Coal',
            'gas': 'Natural Gas',
            'natural gas': 'Natural Gas',
            'nuclear': 'Nuclear',
            'wind': 'Wind',
            'solar': 'Solar',
            'hydro': 'Hydro',
            'biomass': 'Biomass',
            'other': 'Other'
        }
        
        df[fuel_col] = df[fuel_col].astype(str).str.lower()
        df['Fuel_Standardized'] = df[fuel_col].map(fuel_mapping).fillna('Other')
        
        # Process monthly data
        months = ['Jan', 'Feb', 'Mar', 'Apr', 'May', 'Jun', 
                 'Jul', 'Aug', 'Sep', 'Oct', 'Nov', 'Dec']
        
        result_data = []
        for month_idx, month in enumerate(months, 1):
            month_cols = [col for col in df.columns if month.lower() in str(col).lower()]
            if month_cols:
                month_data = df.groupby('Fuel_Standardized')[month_cols[0]].sum()
                
                for fuel, generation in month_data.items():
                    result_data.append({
                        'Year': year,
                        'Month': month_idx,
                        'Month_Name': month,
                        'Fuel_Type': fuel,
                        'Generation_GWh': generation
                    })
        
        return pd.DataFrame(result_data)
        
    except Exception as e:
        print(f"   ❌ Error loading {year}: {e}")
        return None

# Load all available years
print("🔄 Loading detailed fuel mix data...")
all_fuel_data = []

for year in range(2014, 2025):
    fuel_data = load_detailed_generation_data(year)
    if fuel_data is not None and not fuel_data.empty:
        all_fuel_data.append(fuel_data)
        fuel_types = fuel_data['Fuel_Type'].nunique()
        total_gen = fuel_data['Generation_GWh'].sum()
        print(f"   ✅ {year}: {fuel_types} fuel types, {total_gen:,.0f} GWh total")
    else:
        print(f"   ❌ {year}: Failed to load")

if all_fuel_data:
    df_fuels = pd.concat(all_fuel_data, ignore_index=True)
    
    # Add renewable/fossil categorization
    renewable_fuels = ['Wind', 'Solar', 'Hydro', 'Biomass']
    fossil_fuels = ['Coal', 'Natural Gas']
    
    df_fuels['Category'] = df_fuels['Fuel_Type'].apply(
        lambda x: 'Renewable' if x in renewable_fuels 
        else 'Fossil' if x in fossil_fuels 
        else 'Nuclear/Other'
    )
    
    # Calculate carbon emissions
    df_fuels['Carbon_Emissions_lbs'] = df_fuels.apply(
        lambda row: row['Generation_GWh'] * 1000 * CARBON_FACTORS.get(row['Fuel_Type'], 0), 
        axis=1
    )
    
    # Add seasonal categorization
    df_fuels['Season'] = df_fuels['Month'].map({
        12: 'Winter', 1: 'Winter', 2: 'Winter',
        3: 'Spring', 4: 'Spring', 5: 'Spring',
        6: 'Summer', 7: 'Summer', 8: 'Summer',
        9: 'Fall', 10: 'Fall', 11: 'Fall'
    })
    
    print(f"\n🌱 RENEWABLE TRANSITION DATASET CREATED!")
    print(f"   📊 Years: {df_fuels['Year'].min()}-{df_fuels['Year'].max()}")
    print(f"   🔋 Fuel Types: {sorted(df_fuels['Fuel_Type'].unique())}")
    print(f"   📈 Total Records: {len(df_fuels):,}")
    print(f"   🌍 Carbon Tracking: {df_fuels['Carbon_Emissions_lbs'].sum()/1e9:.1f} billion lbs CO2")
    
    # Calculate renewable penetration by year
    annual_summary = df_fuels.groupby(['Year', 'Category'])['Generation_GWh'].sum().unstack(fill_value=0)
    annual_summary['Total'] = annual_summary.sum(axis=1)
    annual_summary['Renewable_Percentage'] = (annual_summary.get('Renewable', 0) / annual_summary['Total']) * 100
    
    print(f"\n🌱 RENEWABLE PENETRATION EVOLUTION:")
    for year in sorted(annual_summary.index):
        pct = annual_summary.loc[year, 'Renewable_Percentage']
        print(f"   {year}: {pct:.1f}% renewable")

else:
    print("❌ No fuel mix data available")
    df_fuels = pd.DataFrame()# 🌱 Setup: Renewable Transition Analysis
import pandas as pd
import numpy as np
import matplotlib.pyplot as plt
import seaborn as sns
import plotly.graph_objects as go
import plotly.express as px
from plotly.subplots import make_subplots
import plotly.figure_factory as ff
import glob
from scipy import stats
from sklearn.preprocessing import PolynomialFeatures
from sklearn.linear_model import LinearRegression
import warnings
warnings.filterwarnings('ignore')

# Enhanced plotting for renewables
plt.style.use('seaborn-v0_8')
sns.set_palette("Greens_r")

# Carbon intensity factors (lbs CO2/MWh)
CARBON_FACTORS = {
    'Coal': 2249,
    'Natural Gas': 1135,
    'Nuclear': 0,
    'Wind': 0,
    'Solar': 0,
    'Hydro': 0,
    'Biomass': 230,
    'Other': 1500  # Conservative estimate
}

print("🌱 Renewable Transition Analysis Environment Ready!")
print("🎯 Focus: Green energy revolution and carbon impact")
print("📊 Capabilities: Advanced transition metrics and future projections")# 🌱 ERCOT Renewable Energy Transition Deep Dive
## The Green Revolution in Texas Electricity Generation

**🎯 Objective**: Analyze the dramatic transformation of ERCOT's energy mix from fossil fuels to renewables, tracking the speed, scale, and impact of the transition.

**🌟 Revolutionary Changes to Analyze**:
1. **Wind Power Explosion** - From negligible to dominant force
2. **Solar Acceleration** - Exponential growth and grid integration
3. **Fossil Fuel Decline** - Coal phase-out and natural gas evolution
4. **Grid Transformation** - Infrastructure adaptations for renewables
5. **Economic Impact** - Cost savings and market disruption
6. **Environmental Benefits** - Carbon reduction quantification

**📊 Advanced Analytics**:
- Renewable penetration rates by year and season
- Technology adoption curves and S-curves
- Carbon intensity calculations and trends
- Economic displacement of fossil fuels
- Grid flexibility and storage implications
- Future projection modeling

**🎨 Innovative Visualizations**:
- Energy transition flow diagrams (Sankey charts)
- Technology race animations over time
- Carbon footprint reduction visualization
- Renewable intermittency analysis
- Cost-benefit transformation matrices

---